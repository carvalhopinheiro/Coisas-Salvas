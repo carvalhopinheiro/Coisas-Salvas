{
  "nbformat": 4,
  "nbformat_minor": 0,
  "metadata": {
    "colab": {
      "name": "Churn Prediction para uma empresa de Telecomunicações.ipynb",
      "provenance": [],
      "collapsed_sections": [],
      "toc_visible": true,
      "include_colab_link": true
    },
    "kernelspec": {
      "name": "python3",
      "display_name": "Python 3"
    }
  },
  "cells": [
    {
      "cell_type": "markdown",
      "metadata": {
        "id": "view-in-github",
        "colab_type": "text"
      },
      "source": [
        "<a href=\"https://colab.research.google.com/github/carvalhopinheiro/Coisas-Salvas/blob/main/Churn_Prediction_para_uma_empresa_de_Telecomunica%C3%A7%C3%B5es.ipynb\" target=\"_parent\"><img src=\"https://colab.research.google.com/assets/colab-badge.svg\" alt=\"Open In Colab\"/></a>"
      ]
    },
    {
      "cell_type": "markdown",
      "metadata": {
        "id": "sC2BFMOKN1M7"
      },
      "source": [
        "---\n",
        "<img alt=\"Colaboratory logo\" width=\"15%\" src=\"https://github.com/PAlab0/PAlab0/blob/main/logo.png?raw=true\">\n",
        "\n",
        "\n",
        "*by [Paulo Victor](https://www.linkedin.com/in/carvalhopinheiro/)*\n",
        "\n",
        "---"
      ]
    },
    {
      "cell_type": "markdown",
      "metadata": {
        "id": "IR56trFcPcC1"
      },
      "source": [
        "# Churn Prediction (Taxa de Rotatividade)\n",
        "***Churn rate***, ou simplesmente *churn*, representa a taxa de rotatividade ou evasão da sua base de clientes, ou seja, **indica o número de clientes que cancelam em determinado período de tempo**. Em serviços como Spotify ou Netflix, ela representaria a taxa de cancelamento de assinaturas. Entender por que seus clientes abandonam o seu produto ou serviço é vital para conquistar um crescimento sustentável, como o Churn tem um efeito negativo na receita de uma empresa, entender o que é esse indicador e como trabalhar para mitigar essa métrica é algo crítico para o sucesso de muitos negócios.\n",
        "\n",
        "\n",
        "<p align=center>\n",
        "<img src=\"https://github.com/carvalhopinheiro/Coisas-Salvas/blob/main/1.png?raw=true\" width=\"100%\"></p>\n",
        "\n",
        "\n",
        "\n",
        "**Qual a taxa ideal de Churn?**\n",
        "* De modo geral, a empresa Bessemer Venture Partners, que está sediada no Vale do Silício e gerencia mais de $ 4 bilhões em investimentos ao redor do mundo, indica que uma **taxa de cancelamento aceitável deve ficar entre 5% e 7%**. Muitos negócios costumam ter essa média como base.\n",
        "\n",
        "**Por que fazer Churn Prediction?**\n",
        "\n",
        "Uma das soluções mais eficientes oferecidas pelo Big Data é o Churn Prediction, ou seja, a previsão do abandono de um serviço pelo cliente. Essa aplicação é realizada por meio de machine learning (método de análise de dados que faz uso automatizado de algoritmos que aprendem interativamente e encontram insights), a partir da análise da rotatividade da base de usuários propensos a desistir do que você oferece ao mercado.\n",
        "\n",
        "Ao colocar em prática o conceito de Churn Prediction em sua empresa, será possível criar ações ou campanhas específicas para reter esses clientes e evitar, dessa forma, uma queda no número de conversões – e, consequentemente, no faturamento da empresa.\n",
        "\n",
        "Outro ponto positivo da aplicação do Churn Prediction é a possibilidade da **redução de custos** e observação de novas oportunidades com **potenciais clientes**. Quando você consegue ter um overview do comportamento de seus consumidores, torna-se mais fácil antever suas necessidades e oferecer soluções que atendam essas demandas de forma assertiva.\n",
        "\n",
        "Uma coisa que todo empresário sabe bem é que os custos para conquistar um novo cliente podem ser até **15 vezes maiores** do que para reter um cliente atual. Daí a importância de fazer uso do Big Data Analytics e de sua solução de Churn Prediction. **Com isso, o objetivo desse notebook é criar um modelo de machine learning na qual faça o Churn prediction de uma empresa de telecomunicações.**"
      ]
    },
    {
      "cell_type": "markdown",
      "metadata": {
        "id": "0HVmpIxQWT4Y"
      },
      "source": [
        "# Aquisição dos Dados\n",
        "\n",
        "Os dados utilizados neste projeto foram originalmente disponibilizados na [plataforma de ensino da IBM Developer](https://developer.ibm.com/technologies/data-science/patterns/predict-customer-churn-using-watson-studio-and-jupyter-notebooks/#), e tratam de um problema típico de uma companhia de telecomunicações e de qualquer outra empresa: cancelamento de serviço. O *dataset* completo pode ser encontrado [neste link](https://raw.githubusercontent.com/carlosfab/dsnp2/master/datasets/WA_Fn-UseC_-Telco-Customer-Churn.csv).\n",
        "\n",
        " \n",
        "Logo, vamos instalar e importar as bibliotecas de python necessárias para fazer um modelo de machine learning (Aprendizado de máquina) e prever a taxa de rotatividade dos clientes, como também fazer uma análise das características dos clientes e definir as melhores estratégias para diminuir a taxa de cancelamento da empresa.\n",
        "\n"
      ]
    },
    {
      "cell_type": "markdown",
      "source": [
        "##Instalação e Importação Bibliotecas"
      ],
      "metadata": {
        "id": "aqSDCmJXaOtH"
      }
    },
    {
      "cell_type": "code",
      "source": [
        "!pip install -q scikit-plot # INSTALAÇÃO DA BIBLIOTECA SCIKIT"
      ],
      "metadata": {
        "id": "zv4Iehv0cGem"
      },
      "execution_count": null,
      "outputs": []
    },
    {
      "cell_type": "code",
      "source": [
        "# IMPORTANDO OS PACOTES NECESSÁRIOS\n",
        "import numpy as np # PROCESSAMENTO DE ARRANJOS E MATRIZES\n",
        "import pandas as pd # MANIPULAÇÃO E ANÁLISE DE DADOS \n",
        "import matplotlib.pyplot as plt # VISUALIZAÇÃO DE DADOS\n",
        "import seaborn as sns # VISUALIZAÇÃO DE DADOS\n",
        "from sklearn.preprocessing import StandardScaler, LabelEncoder # PADRONIZAÇÃO DOS DADOS E TRANSFORMAÇÃO DOS DADOS\n",
        "from sklearn.model_selection import train_test_split # DIVISÃO DOS DADOS EM TESTE E TREINO \n",
        "from imblearn.over_sampling import SMOTE # BALANCEAMENTO DOS DADOS\n",
        "from imblearn.under_sampling import RandomUnderSampler # BALANCEAMENTO DOS DADOS\n",
        "import scikitplot as skplt # GRÁFICO DE CONFUSÃO\n",
        "from sklearn.metrics import classification_report # MÉTRICAS DE DESEMPENHO DO MODELO\n",
        "from sklearn.metrics import roc_auc_score, roc_curve, accuracy_score # MÉTRICAS DE DESEMPENHO DO MODELO\n",
        "from sklearn.model_selection import cross_val_score # VALIDAÇÃO CRUZADA\n",
        "from sklearn.model_selection import RandomizedSearchCV # OTIMIZAÇÃO DE HIPERPARÂMETROS\n",
        "from sklearn.tree import DecisionTreeClassifier # MODELO DE CLASSIFICAÇÃO MACHINE LEARNING\n",
        "from sklearn.linear_model import LogisticRegression # MODELO DE CLASSIFICAÇÃO MACHINE LEARNING\n",
        "from xgboost import XGBClassifier # MODELO DE CLASSIFICAÇÃO MACHINE LEARNING\n",
        "from sklearn.ensemble import RandomForestClassifier # MODELO DE CLASSIFICAÇÃO MACHINE LEARNING\n",
        "from sklearn.pipeline import make_pipeline # PIPELINE"
      ],
      "metadata": {
        "id": "sn-1cTtJb9ef"
      },
      "execution_count": null,
      "outputs": []
    },
    {
      "cell_type": "markdown",
      "source": [
        "## Importação dos dados\n",
        "\n",
        "Com essas bibliotecas instaladas e importadas vamos começar a importar os dados e mostrar suas primeiras e ultimas entradas e entender como estão dispostas nossa variáveis e seus respectivos significados.\n",
        "\n",
        "\n",
        "Lembrando que os dados utilizados neste projeto foram originalmente disponibilizados na [plataforma de ensino da IBM Developer](https://developer.ibm.com/technologies/data-science/patterns/predict-customer-churn-using-watson-studio-and-jupyter-notebooks/#),e tratam de um problema típico de uma companhia de telecomunicações e de qualquer outra empresa: cancelamento de serviço. O *dataset* completo pode ser encontrado [neste link](https://raw.githubusercontent.com/carlosfab/dsnp2/master/datasets/WA_Fn-UseC_-Telco-Customer-Churn.csv)."
      ],
      "metadata": {
        "id": "DZM5bWydaJ2Z"
      }
    },
    {
      "cell_type": "code",
      "metadata": {
        "id": "oQ4bNy7udtEE"
      },
      "source": [
        "# IMPORTANDO OS DADOS\n",
        "DATA_PATH = \"https://raw.githubusercontent.com/carlosfab/dsnp2/master/datasets/WA_Fn-UseC_-Telco-Customer-Churn.csv\"\n",
        "df = pd.read_csv(DATA_PATH)"
      ],
      "execution_count": null,
      "outputs": []
    },
    {
      "cell_type": "markdown",
      "source": [
        "# Análise Exploratória\n",
        "### 5 Primeiras Entradas"
      ],
      "metadata": {
        "id": "sBhecx64qIPC"
      }
    },
    {
      "cell_type": "code",
      "source": [
        "# 5 PRIMEIRAS LINHAS\n",
        "df.head()"
      ],
      "metadata": {
        "colab": {
          "base_uri": "https://localhost:8080/",
          "height": 357
        },
        "id": "ZOwFXpvobpx_",
        "outputId": "763264a9-a4c2-4a4c-c397-e60103ecf0f9"
      },
      "execution_count": null,
      "outputs": [
        {
          "output_type": "execute_result",
          "data": {
            "text/html": [
              "\n",
              "  <div id=\"df-46bf9522-fede-4dde-94d5-02bdf3921c25\">\n",
              "    <div class=\"colab-df-container\">\n",
              "      <div>\n",
              "<style scoped>\n",
              "    .dataframe tbody tr th:only-of-type {\n",
              "        vertical-align: middle;\n",
              "    }\n",
              "\n",
              "    .dataframe tbody tr th {\n",
              "        vertical-align: top;\n",
              "    }\n",
              "\n",
              "    .dataframe thead th {\n",
              "        text-align: right;\n",
              "    }\n",
              "</style>\n",
              "<table border=\"1\" class=\"dataframe\">\n",
              "  <thead>\n",
              "    <tr style=\"text-align: right;\">\n",
              "      <th></th>\n",
              "      <th>customerID</th>\n",
              "      <th>gender</th>\n",
              "      <th>SeniorCitizen</th>\n",
              "      <th>Partner</th>\n",
              "      <th>Dependents</th>\n",
              "      <th>tenure</th>\n",
              "      <th>PhoneService</th>\n",
              "      <th>MultipleLines</th>\n",
              "      <th>InternetService</th>\n",
              "      <th>OnlineSecurity</th>\n",
              "      <th>OnlineBackup</th>\n",
              "      <th>DeviceProtection</th>\n",
              "      <th>TechSupport</th>\n",
              "      <th>StreamingTV</th>\n",
              "      <th>StreamingMovies</th>\n",
              "      <th>Contract</th>\n",
              "      <th>PaperlessBilling</th>\n",
              "      <th>PaymentMethod</th>\n",
              "      <th>MonthlyCharges</th>\n",
              "      <th>TotalCharges</th>\n",
              "      <th>Churn</th>\n",
              "    </tr>\n",
              "  </thead>\n",
              "  <tbody>\n",
              "    <tr>\n",
              "      <th>0</th>\n",
              "      <td>7590-VHVEG</td>\n",
              "      <td>Female</td>\n",
              "      <td>0</td>\n",
              "      <td>Yes</td>\n",
              "      <td>No</td>\n",
              "      <td>1</td>\n",
              "      <td>No</td>\n",
              "      <td>No phone service</td>\n",
              "      <td>DSL</td>\n",
              "      <td>No</td>\n",
              "      <td>Yes</td>\n",
              "      <td>No</td>\n",
              "      <td>No</td>\n",
              "      <td>No</td>\n",
              "      <td>No</td>\n",
              "      <td>Month-to-month</td>\n",
              "      <td>Yes</td>\n",
              "      <td>Electronic check</td>\n",
              "      <td>29.85</td>\n",
              "      <td>29.85</td>\n",
              "      <td>No</td>\n",
              "    </tr>\n",
              "    <tr>\n",
              "      <th>1</th>\n",
              "      <td>5575-GNVDE</td>\n",
              "      <td>Male</td>\n",
              "      <td>0</td>\n",
              "      <td>No</td>\n",
              "      <td>No</td>\n",
              "      <td>34</td>\n",
              "      <td>Yes</td>\n",
              "      <td>No</td>\n",
              "      <td>DSL</td>\n",
              "      <td>Yes</td>\n",
              "      <td>No</td>\n",
              "      <td>Yes</td>\n",
              "      <td>No</td>\n",
              "      <td>No</td>\n",
              "      <td>No</td>\n",
              "      <td>One year</td>\n",
              "      <td>No</td>\n",
              "      <td>Mailed check</td>\n",
              "      <td>56.95</td>\n",
              "      <td>1889.5</td>\n",
              "      <td>No</td>\n",
              "    </tr>\n",
              "    <tr>\n",
              "      <th>2</th>\n",
              "      <td>3668-QPYBK</td>\n",
              "      <td>Male</td>\n",
              "      <td>0</td>\n",
              "      <td>No</td>\n",
              "      <td>No</td>\n",
              "      <td>2</td>\n",
              "      <td>Yes</td>\n",
              "      <td>No</td>\n",
              "      <td>DSL</td>\n",
              "      <td>Yes</td>\n",
              "      <td>Yes</td>\n",
              "      <td>No</td>\n",
              "      <td>No</td>\n",
              "      <td>No</td>\n",
              "      <td>No</td>\n",
              "      <td>Month-to-month</td>\n",
              "      <td>Yes</td>\n",
              "      <td>Mailed check</td>\n",
              "      <td>53.85</td>\n",
              "      <td>108.15</td>\n",
              "      <td>Yes</td>\n",
              "    </tr>\n",
              "    <tr>\n",
              "      <th>3</th>\n",
              "      <td>7795-CFOCW</td>\n",
              "      <td>Male</td>\n",
              "      <td>0</td>\n",
              "      <td>No</td>\n",
              "      <td>No</td>\n",
              "      <td>45</td>\n",
              "      <td>No</td>\n",
              "      <td>No phone service</td>\n",
              "      <td>DSL</td>\n",
              "      <td>Yes</td>\n",
              "      <td>No</td>\n",
              "      <td>Yes</td>\n",
              "      <td>Yes</td>\n",
              "      <td>No</td>\n",
              "      <td>No</td>\n",
              "      <td>One year</td>\n",
              "      <td>No</td>\n",
              "      <td>Bank transfer (automatic)</td>\n",
              "      <td>42.30</td>\n",
              "      <td>1840.75</td>\n",
              "      <td>No</td>\n",
              "    </tr>\n",
              "    <tr>\n",
              "      <th>4</th>\n",
              "      <td>9237-HQITU</td>\n",
              "      <td>Female</td>\n",
              "      <td>0</td>\n",
              "      <td>No</td>\n",
              "      <td>No</td>\n",
              "      <td>2</td>\n",
              "      <td>Yes</td>\n",
              "      <td>No</td>\n",
              "      <td>Fiber optic</td>\n",
              "      <td>No</td>\n",
              "      <td>No</td>\n",
              "      <td>No</td>\n",
              "      <td>No</td>\n",
              "      <td>No</td>\n",
              "      <td>No</td>\n",
              "      <td>Month-to-month</td>\n",
              "      <td>Yes</td>\n",
              "      <td>Electronic check</td>\n",
              "      <td>70.70</td>\n",
              "      <td>151.65</td>\n",
              "      <td>Yes</td>\n",
              "    </tr>\n",
              "  </tbody>\n",
              "</table>\n",
              "</div>\n",
              "      <button class=\"colab-df-convert\" onclick=\"convertToInteractive('df-46bf9522-fede-4dde-94d5-02bdf3921c25')\"\n",
              "              title=\"Convert this dataframe to an interactive table.\"\n",
              "              style=\"display:none;\">\n",
              "        \n",
              "  <svg xmlns=\"http://www.w3.org/2000/svg\" height=\"24px\"viewBox=\"0 0 24 24\"\n",
              "       width=\"24px\">\n",
              "    <path d=\"M0 0h24v24H0V0z\" fill=\"none\"/>\n",
              "    <path d=\"M18.56 5.44l.94 2.06.94-2.06 2.06-.94-2.06-.94-.94-2.06-.94 2.06-2.06.94zm-11 1L8.5 8.5l.94-2.06 2.06-.94-2.06-.94L8.5 2.5l-.94 2.06-2.06.94zm10 10l.94 2.06.94-2.06 2.06-.94-2.06-.94-.94-2.06-.94 2.06-2.06.94z\"/><path d=\"M17.41 7.96l-1.37-1.37c-.4-.4-.92-.59-1.43-.59-.52 0-1.04.2-1.43.59L10.3 9.45l-7.72 7.72c-.78.78-.78 2.05 0 2.83L4 21.41c.39.39.9.59 1.41.59.51 0 1.02-.2 1.41-.59l7.78-7.78 2.81-2.81c.8-.78.8-2.07 0-2.86zM5.41 20L4 18.59l7.72-7.72 1.47 1.35L5.41 20z\"/>\n",
              "  </svg>\n",
              "      </button>\n",
              "      \n",
              "  <style>\n",
              "    .colab-df-container {\n",
              "      display:flex;\n",
              "      flex-wrap:wrap;\n",
              "      gap: 12px;\n",
              "    }\n",
              "\n",
              "    .colab-df-convert {\n",
              "      background-color: #E8F0FE;\n",
              "      border: none;\n",
              "      border-radius: 50%;\n",
              "      cursor: pointer;\n",
              "      display: none;\n",
              "      fill: #1967D2;\n",
              "      height: 32px;\n",
              "      padding: 0 0 0 0;\n",
              "      width: 32px;\n",
              "    }\n",
              "\n",
              "    .colab-df-convert:hover {\n",
              "      background-color: #E2EBFA;\n",
              "      box-shadow: 0px 1px 2px rgba(60, 64, 67, 0.3), 0px 1px 3px 1px rgba(60, 64, 67, 0.15);\n",
              "      fill: #174EA6;\n",
              "    }\n",
              "\n",
              "    [theme=dark] .colab-df-convert {\n",
              "      background-color: #3B4455;\n",
              "      fill: #D2E3FC;\n",
              "    }\n",
              "\n",
              "    [theme=dark] .colab-df-convert:hover {\n",
              "      background-color: #434B5C;\n",
              "      box-shadow: 0px 1px 3px 1px rgba(0, 0, 0, 0.15);\n",
              "      filter: drop-shadow(0px 1px 2px rgba(0, 0, 0, 0.3));\n",
              "      fill: #FFFFFF;\n",
              "    }\n",
              "  </style>\n",
              "\n",
              "      <script>\n",
              "        const buttonEl =\n",
              "          document.querySelector('#df-46bf9522-fede-4dde-94d5-02bdf3921c25 button.colab-df-convert');\n",
              "        buttonEl.style.display =\n",
              "          google.colab.kernel.accessAllowed ? 'block' : 'none';\n",
              "\n",
              "        async function convertToInteractive(key) {\n",
              "          const element = document.querySelector('#df-46bf9522-fede-4dde-94d5-02bdf3921c25');\n",
              "          const dataTable =\n",
              "            await google.colab.kernel.invokeFunction('convertToInteractive',\n",
              "                                                     [key], {});\n",
              "          if (!dataTable) return;\n",
              "\n",
              "          const docLinkHtml = 'Like what you see? Visit the ' +\n",
              "            '<a target=\"_blank\" href=https://colab.research.google.com/notebooks/data_table.ipynb>data table notebook</a>'\n",
              "            + ' to learn more about interactive tables.';\n",
              "          element.innerHTML = '';\n",
              "          dataTable['output_type'] = 'display_data';\n",
              "          await google.colab.output.renderOutput(dataTable, element);\n",
              "          const docLink = document.createElement('div');\n",
              "          docLink.innerHTML = docLinkHtml;\n",
              "          element.appendChild(docLink);\n",
              "        }\n",
              "      </script>\n",
              "    </div>\n",
              "  </div>\n",
              "  "
            ],
            "text/plain": [
              "   customerID  gender  SeniorCitizen  ... MonthlyCharges TotalCharges  Churn\n",
              "0  7590-VHVEG  Female              0  ...          29.85        29.85     No\n",
              "1  5575-GNVDE    Male              0  ...          56.95       1889.5     No\n",
              "2  3668-QPYBK    Male              0  ...          53.85       108.15    Yes\n",
              "3  7795-CFOCW    Male              0  ...          42.30      1840.75     No\n",
              "4  9237-HQITU  Female              0  ...          70.70       151.65    Yes\n",
              "\n",
              "[5 rows x 21 columns]"
            ]
          },
          "metadata": {},
          "execution_count": 253
        }
      ]
    },
    {
      "cell_type": "markdown",
      "source": [
        "### 5 Últimas Entradas"
      ],
      "metadata": {
        "id": "jtqaey0kbtJP"
      }
    },
    {
      "cell_type": "code",
      "source": [
        "# 5 ÚLTIMAS LINHAS\n",
        "df.tail()"
      ],
      "metadata": {
        "colab": {
          "base_uri": "https://localhost:8080/",
          "height": 357
        },
        "id": "YCwPBaD5b3rO",
        "outputId": "b859f527-04eb-4b9b-a210-f932fcab80d7"
      },
      "execution_count": null,
      "outputs": [
        {
          "output_type": "execute_result",
          "data": {
            "text/html": [
              "\n",
              "  <div id=\"df-7af817d1-6f1d-427c-8288-04356ee51179\">\n",
              "    <div class=\"colab-df-container\">\n",
              "      <div>\n",
              "<style scoped>\n",
              "    .dataframe tbody tr th:only-of-type {\n",
              "        vertical-align: middle;\n",
              "    }\n",
              "\n",
              "    .dataframe tbody tr th {\n",
              "        vertical-align: top;\n",
              "    }\n",
              "\n",
              "    .dataframe thead th {\n",
              "        text-align: right;\n",
              "    }\n",
              "</style>\n",
              "<table border=\"1\" class=\"dataframe\">\n",
              "  <thead>\n",
              "    <tr style=\"text-align: right;\">\n",
              "      <th></th>\n",
              "      <th>customerID</th>\n",
              "      <th>gender</th>\n",
              "      <th>SeniorCitizen</th>\n",
              "      <th>Partner</th>\n",
              "      <th>Dependents</th>\n",
              "      <th>tenure</th>\n",
              "      <th>PhoneService</th>\n",
              "      <th>MultipleLines</th>\n",
              "      <th>InternetService</th>\n",
              "      <th>OnlineSecurity</th>\n",
              "      <th>OnlineBackup</th>\n",
              "      <th>DeviceProtection</th>\n",
              "      <th>TechSupport</th>\n",
              "      <th>StreamingTV</th>\n",
              "      <th>StreamingMovies</th>\n",
              "      <th>Contract</th>\n",
              "      <th>PaperlessBilling</th>\n",
              "      <th>PaymentMethod</th>\n",
              "      <th>MonthlyCharges</th>\n",
              "      <th>TotalCharges</th>\n",
              "      <th>Churn</th>\n",
              "    </tr>\n",
              "  </thead>\n",
              "  <tbody>\n",
              "    <tr>\n",
              "      <th>7038</th>\n",
              "      <td>6840-RESVB</td>\n",
              "      <td>Male</td>\n",
              "      <td>0</td>\n",
              "      <td>Yes</td>\n",
              "      <td>Yes</td>\n",
              "      <td>24</td>\n",
              "      <td>Yes</td>\n",
              "      <td>Yes</td>\n",
              "      <td>DSL</td>\n",
              "      <td>Yes</td>\n",
              "      <td>No</td>\n",
              "      <td>Yes</td>\n",
              "      <td>Yes</td>\n",
              "      <td>Yes</td>\n",
              "      <td>Yes</td>\n",
              "      <td>One year</td>\n",
              "      <td>Yes</td>\n",
              "      <td>Mailed check</td>\n",
              "      <td>84.80</td>\n",
              "      <td>1990.5</td>\n",
              "      <td>No</td>\n",
              "    </tr>\n",
              "    <tr>\n",
              "      <th>7039</th>\n",
              "      <td>2234-XADUH</td>\n",
              "      <td>Female</td>\n",
              "      <td>0</td>\n",
              "      <td>Yes</td>\n",
              "      <td>Yes</td>\n",
              "      <td>72</td>\n",
              "      <td>Yes</td>\n",
              "      <td>Yes</td>\n",
              "      <td>Fiber optic</td>\n",
              "      <td>No</td>\n",
              "      <td>Yes</td>\n",
              "      <td>Yes</td>\n",
              "      <td>No</td>\n",
              "      <td>Yes</td>\n",
              "      <td>Yes</td>\n",
              "      <td>One year</td>\n",
              "      <td>Yes</td>\n",
              "      <td>Credit card (automatic)</td>\n",
              "      <td>103.20</td>\n",
              "      <td>7362.9</td>\n",
              "      <td>No</td>\n",
              "    </tr>\n",
              "    <tr>\n",
              "      <th>7040</th>\n",
              "      <td>4801-JZAZL</td>\n",
              "      <td>Female</td>\n",
              "      <td>0</td>\n",
              "      <td>Yes</td>\n",
              "      <td>Yes</td>\n",
              "      <td>11</td>\n",
              "      <td>No</td>\n",
              "      <td>No phone service</td>\n",
              "      <td>DSL</td>\n",
              "      <td>Yes</td>\n",
              "      <td>No</td>\n",
              "      <td>No</td>\n",
              "      <td>No</td>\n",
              "      <td>No</td>\n",
              "      <td>No</td>\n",
              "      <td>Month-to-month</td>\n",
              "      <td>Yes</td>\n",
              "      <td>Electronic check</td>\n",
              "      <td>29.60</td>\n",
              "      <td>346.45</td>\n",
              "      <td>No</td>\n",
              "    </tr>\n",
              "    <tr>\n",
              "      <th>7041</th>\n",
              "      <td>8361-LTMKD</td>\n",
              "      <td>Male</td>\n",
              "      <td>1</td>\n",
              "      <td>Yes</td>\n",
              "      <td>No</td>\n",
              "      <td>4</td>\n",
              "      <td>Yes</td>\n",
              "      <td>Yes</td>\n",
              "      <td>Fiber optic</td>\n",
              "      <td>No</td>\n",
              "      <td>No</td>\n",
              "      <td>No</td>\n",
              "      <td>No</td>\n",
              "      <td>No</td>\n",
              "      <td>No</td>\n",
              "      <td>Month-to-month</td>\n",
              "      <td>Yes</td>\n",
              "      <td>Mailed check</td>\n",
              "      <td>74.40</td>\n",
              "      <td>306.6</td>\n",
              "      <td>Yes</td>\n",
              "    </tr>\n",
              "    <tr>\n",
              "      <th>7042</th>\n",
              "      <td>3186-AJIEK</td>\n",
              "      <td>Male</td>\n",
              "      <td>0</td>\n",
              "      <td>No</td>\n",
              "      <td>No</td>\n",
              "      <td>66</td>\n",
              "      <td>Yes</td>\n",
              "      <td>No</td>\n",
              "      <td>Fiber optic</td>\n",
              "      <td>Yes</td>\n",
              "      <td>No</td>\n",
              "      <td>Yes</td>\n",
              "      <td>Yes</td>\n",
              "      <td>Yes</td>\n",
              "      <td>Yes</td>\n",
              "      <td>Two year</td>\n",
              "      <td>Yes</td>\n",
              "      <td>Bank transfer (automatic)</td>\n",
              "      <td>105.65</td>\n",
              "      <td>6844.5</td>\n",
              "      <td>No</td>\n",
              "    </tr>\n",
              "  </tbody>\n",
              "</table>\n",
              "</div>\n",
              "      <button class=\"colab-df-convert\" onclick=\"convertToInteractive('df-7af817d1-6f1d-427c-8288-04356ee51179')\"\n",
              "              title=\"Convert this dataframe to an interactive table.\"\n",
              "              style=\"display:none;\">\n",
              "        \n",
              "  <svg xmlns=\"http://www.w3.org/2000/svg\" height=\"24px\"viewBox=\"0 0 24 24\"\n",
              "       width=\"24px\">\n",
              "    <path d=\"M0 0h24v24H0V0z\" fill=\"none\"/>\n",
              "    <path d=\"M18.56 5.44l.94 2.06.94-2.06 2.06-.94-2.06-.94-.94-2.06-.94 2.06-2.06.94zm-11 1L8.5 8.5l.94-2.06 2.06-.94-2.06-.94L8.5 2.5l-.94 2.06-2.06.94zm10 10l.94 2.06.94-2.06 2.06-.94-2.06-.94-.94-2.06-.94 2.06-2.06.94z\"/><path d=\"M17.41 7.96l-1.37-1.37c-.4-.4-.92-.59-1.43-.59-.52 0-1.04.2-1.43.59L10.3 9.45l-7.72 7.72c-.78.78-.78 2.05 0 2.83L4 21.41c.39.39.9.59 1.41.59.51 0 1.02-.2 1.41-.59l7.78-7.78 2.81-2.81c.8-.78.8-2.07 0-2.86zM5.41 20L4 18.59l7.72-7.72 1.47 1.35L5.41 20z\"/>\n",
              "  </svg>\n",
              "      </button>\n",
              "      \n",
              "  <style>\n",
              "    .colab-df-container {\n",
              "      display:flex;\n",
              "      flex-wrap:wrap;\n",
              "      gap: 12px;\n",
              "    }\n",
              "\n",
              "    .colab-df-convert {\n",
              "      background-color: #E8F0FE;\n",
              "      border: none;\n",
              "      border-radius: 50%;\n",
              "      cursor: pointer;\n",
              "      display: none;\n",
              "      fill: #1967D2;\n",
              "      height: 32px;\n",
              "      padding: 0 0 0 0;\n",
              "      width: 32px;\n",
              "    }\n",
              "\n",
              "    .colab-df-convert:hover {\n",
              "      background-color: #E2EBFA;\n",
              "      box-shadow: 0px 1px 2px rgba(60, 64, 67, 0.3), 0px 1px 3px 1px rgba(60, 64, 67, 0.15);\n",
              "      fill: #174EA6;\n",
              "    }\n",
              "\n",
              "    [theme=dark] .colab-df-convert {\n",
              "      background-color: #3B4455;\n",
              "      fill: #D2E3FC;\n",
              "    }\n",
              "\n",
              "    [theme=dark] .colab-df-convert:hover {\n",
              "      background-color: #434B5C;\n",
              "      box-shadow: 0px 1px 3px 1px rgba(0, 0, 0, 0.15);\n",
              "      filter: drop-shadow(0px 1px 2px rgba(0, 0, 0, 0.3));\n",
              "      fill: #FFFFFF;\n",
              "    }\n",
              "  </style>\n",
              "\n",
              "      <script>\n",
              "        const buttonEl =\n",
              "          document.querySelector('#df-7af817d1-6f1d-427c-8288-04356ee51179 button.colab-df-convert');\n",
              "        buttonEl.style.display =\n",
              "          google.colab.kernel.accessAllowed ? 'block' : 'none';\n",
              "\n",
              "        async function convertToInteractive(key) {\n",
              "          const element = document.querySelector('#df-7af817d1-6f1d-427c-8288-04356ee51179');\n",
              "          const dataTable =\n",
              "            await google.colab.kernel.invokeFunction('convertToInteractive',\n",
              "                                                     [key], {});\n",
              "          if (!dataTable) return;\n",
              "\n",
              "          const docLinkHtml = 'Like what you see? Visit the ' +\n",
              "            '<a target=\"_blank\" href=https://colab.research.google.com/notebooks/data_table.ipynb>data table notebook</a>'\n",
              "            + ' to learn more about interactive tables.';\n",
              "          element.innerHTML = '';\n",
              "          dataTable['output_type'] = 'display_data';\n",
              "          await google.colab.output.renderOutput(dataTable, element);\n",
              "          const docLink = document.createElement('div');\n",
              "          docLink.innerHTML = docLinkHtml;\n",
              "          element.appendChild(docLink);\n",
              "        }\n",
              "      </script>\n",
              "    </div>\n",
              "  </div>\n",
              "  "
            ],
            "text/plain": [
              "      customerID  gender  SeniorCitizen  ... MonthlyCharges TotalCharges  Churn\n",
              "7038  6840-RESVB    Male              0  ...          84.80       1990.5     No\n",
              "7039  2234-XADUH  Female              0  ...         103.20       7362.9     No\n",
              "7040  4801-JZAZL  Female              0  ...          29.60       346.45     No\n",
              "7041  8361-LTMKD    Male              1  ...          74.40        306.6    Yes\n",
              "7042  3186-AJIEK    Male              0  ...         105.65       6844.5     No\n",
              "\n",
              "[5 rows x 21 columns]"
            ]
          },
          "metadata": {},
          "execution_count": 254
        }
      ]
    },
    {
      "cell_type": "markdown",
      "source": [
        "### Dicionário das variáveis\n",
        "* **customerID** - ID_Usuario\n",
        "* **gender** - Gênero\n",
        "* **SeniorCitizen** - Idoso\n",
        "* **Partner** - Parceiro\n",
        "* **Dependents** - Dependentes\n",
        "* **tenure** - Meses\n",
        "* **PhoneService** - Serviço de telefone\n",
        "* **MultipleLines** - Multi linhas\n",
        "* **InternetService** - Serviço de internet\n",
        "* **OnlineSecurity** - Segurança Online\n",
        "* **OnlineBackup** - Backup Online\n",
        "* **DeviceProtection** - Proteção de dispositivo\n",
        "* **TechSupport** - Suporte técnico\n",
        "* **StreamingTV** - Transmissão de TV\n",
        "* **StreamingMovies** - Streaming de filmes\n",
        "* **Contract** - Contrato\n",
        "* **PaperlessBilling** - Fatura sem papel\n",
        "* **PaymentMethod** - Forma de pagamento\n",
        "* **MonthlyCharges** - Cobranças Mensais\n",
        "* **TotalCharges** - Custos totais\n",
        "* **Churn** - Cancelamento\n",
        "\n",
        "O Dataset é dividido em 3 grandes grupos são eles as características do cliente, o tipo de serviço oferecido a ele e por último questões relacionada a contrato e pagamento.\n",
        "\n",
        "A variável alvo está na coluna **Churn**, indicando os potenciais cancelamentos;"
      ],
      "metadata": {
        "id": "hXghKPANb7iA"
      }
    },
    {
      "cell_type": "markdown",
      "source": [
        "### Tamanho do dataset"
      ],
      "metadata": {
        "id": "Yqf1EcCWcdcA"
      }
    },
    {
      "cell_type": "code",
      "source": [
        "# TAMNHO DO DATASET - LINHAS E COLUNAS\n",
        "print(f'O dataset conta com {df.shape[0]} linhas')\n",
        "print(f'O dataset conta com {df.shape[1]} colunas')"
      ],
      "metadata": {
        "id": "EOQadwBZZdUS",
        "outputId": "290fccb6-4f71-4f29-e3a4-942bd9c40377",
        "colab": {
          "base_uri": "https://localhost:8080/"
        }
      },
      "execution_count": null,
      "outputs": [
        {
          "output_type": "stream",
          "name": "stdout",
          "text": [
            "O dataset conta com 7043 linhas\n",
            "O dataset conta com 21 colunas\n"
          ]
        }
      ]
    },
    {
      "cell_type": "markdown",
      "source": [
        "## Análise Exploratória dos Dados\n",
        "Com uma breve noção sobre a quantidade de linhas e colunas do dataset, significados das variáveis e visualização das primeiras e últimas linhas, vamos partir para a análise dos dados em si.\n",
        " \n",
        "Com isso, Vamos analisar:\n",
        "* Tipo dos dados\n",
        "* Quantidade de linhas vazias\n",
        "* Estatísticas de variáveis numéricas\n",
        "* Quantidade de valores únicos por variável\n",
        " \n",
        "Isso nos permite entender melhor como estão os dados no dataset."
      ],
      "metadata": {
        "id": "ScDvKDU7a9qn"
      }
    },
    {
      "cell_type": "markdown",
      "source": [
        "### Tipos dos Dados"
      ],
      "metadata": {
        "id": "7LRdNtYfdHhm"
      }
    },
    {
      "cell_type": "code",
      "source": [
        "# TIPO DA VARIÁVEL \n",
        "df.dtypes"
      ],
      "metadata": {
        "id": "g5uVVxF2pMdQ",
        "outputId": "5fb76971-32dd-4a91-f833-6ee9e3eea2d1",
        "colab": {
          "base_uri": "https://localhost:8080/"
        }
      },
      "execution_count": null,
      "outputs": [
        {
          "output_type": "execute_result",
          "data": {
            "text/plain": [
              "customerID           object\n",
              "gender               object\n",
              "SeniorCitizen         int64\n",
              "Partner              object\n",
              "Dependents           object\n",
              "tenure                int64\n",
              "PhoneService         object\n",
              "MultipleLines        object\n",
              "InternetService      object\n",
              "OnlineSecurity       object\n",
              "OnlineBackup         object\n",
              "DeviceProtection     object\n",
              "TechSupport          object\n",
              "StreamingTV          object\n",
              "StreamingMovies      object\n",
              "Contract             object\n",
              "PaperlessBilling     object\n",
              "PaymentMethod        object\n",
              "MonthlyCharges      float64\n",
              "TotalCharges         object\n",
              "Churn                object\n",
              "dtype: object"
            ]
          },
          "metadata": {},
          "execution_count": 256
        }
      ]
    },
    {
      "cell_type": "markdown",
      "source": [
        "Para melhor entendimento, vamos identificar os tipo de variáveis como:\n",
        " * **OBJECT** - Texto ou Palavra\n",
        " * **FLOAT** - Número Decimal\n",
        " * **INT** - Número Inteiro\n",
        "\n",
        "Vemos que dezoito (18) variáveis estão como OBJECT, uma (1) como FLOAT e duas (2) como INT, por agora isso não será um problema, pois ainda estamos fazendo a análise exploratória do nosso dataset, porém quando chegamos na parte de treinar o modelo de ML (Machine Learning) e  prever o Churn teremos que transformar essas variáveis em numéricas, já que com essa prática o modelo desenvolve uma capacidade de previsão acima do que teria com as variáveis do tipo OBJECT.\n",
        " \n",
        "Porém, se olharmos com atenção existe uma variável na qual está com o tipo incorreto: A variável ``total charges`` que representa o total de cobranças por cliente está como OBJECT, mas deveria ser um número decimal. Mas ao tentar transformá-la em FLOAT o algoritmo dá erro, pois existem valores nulos que não estão conseguindo ser transformados.\n",
        " \n",
        "Com isso, para solucionarmos o problema, vamos utilizar uma função na qual transforma as linhas preenchidas em FLOAT e as linhas na qual estão dando erro em vazias.\n",
        "\n"
      ],
      "metadata": {
        "id": "OlnWOGp2daEm"
      }
    },
    {
      "cell_type": "markdown",
      "source": [
        "#### Conventendo a variável TotalCharges para float\n"
      ],
      "metadata": {
        "id": "KXo0NYUtNW1Y"
      }
    },
    {
      "cell_type": "code",
      "source": [
        "# FUNÇÃO DE CONVERSÃO DE OBJECT PARA FLOAT\n",
        "def converter_str_float(entrada):\n",
        "    \"\"\"\n",
        "    Converte um objeto do tipo string em float.\n",
        "\n",
        "    # Arguments\n",
        "        entrada: string, string da coluna TotalCharges.\n",
        "\n",
        "    # Returns\n",
        "        Valor convertido em float, caso permita a conversão.\n",
        "        NaN, caso o valor não seja apropriado.\n",
        "    \"\"\"\n",
        "\n",
        "    try:\n",
        "        return float(entrada)\n",
        "    except ValueError:\n",
        "        return np.nan"
      ],
      "metadata": {
        "id": "KvMpfCJgdBE_"
      },
      "execution_count": null,
      "outputs": []
    },
    {
      "cell_type": "code",
      "source": [
        "# APLICANDO A FUNÇÃO \n",
        "df['TotalCharges'] = df['TotalCharges'].apply(converter_str_float)"
      ],
      "metadata": {
        "id": "8T3yAhqZpjbD"
      },
      "execution_count": null,
      "outputs": []
    },
    {
      "cell_type": "markdown",
      "source": [
        "### Quantidade de linhas vazias\n",
        " \n",
        "Como disse anteriormente, para resolver o problema da transformação (OBJECT - FLOAT) algumas das linhas foram transformadas em valores nulos, ou seja, estão faltando dados, para uma melhor qualidade de previsão do modelo vamos substituir os valores faltantes pela mediana da variável.\n",
        " \n",
        "**Por que utilizar a mediana como valor para substituir:**\n",
        " \n",
        "A mediana é uma medida de tendência central da Estatística que corresponde ao valor central de um conjunto de valores ordenados,ou seja, tende a causar menos impacto na amostra. Com isso, aplicar a imputação dos valores nulos utilizando a média ou moda demonstra-se extremamente sensível à distribuição de dados, podendo criar grandes alterações dos valores analisados.\n"
      ],
      "metadata": {
        "id": "2HFqpcqqM95l"
      }
    },
    {
      "cell_type": "code",
      "source": [
        "# LINHAS VAZIAS POR VARIÁVEL\n",
        "df.isnull().sum()"
      ],
      "metadata": {
        "id": "2qv8xaiCpI-R",
        "outputId": "23040882-3645-47a6-b191-c8f0922c5d27",
        "colab": {
          "base_uri": "https://localhost:8080/"
        }
      },
      "execution_count": null,
      "outputs": [
        {
          "output_type": "execute_result",
          "data": {
            "text/plain": [
              "customerID           0\n",
              "gender               0\n",
              "SeniorCitizen        0\n",
              "Partner              0\n",
              "Dependents           0\n",
              "tenure               0\n",
              "PhoneService         0\n",
              "MultipleLines        0\n",
              "InternetService      0\n",
              "OnlineSecurity       0\n",
              "OnlineBackup         0\n",
              "DeviceProtection     0\n",
              "TechSupport          0\n",
              "StreamingTV          0\n",
              "StreamingMovies      0\n",
              "Contract             0\n",
              "PaperlessBilling     0\n",
              "PaymentMethod        0\n",
              "MonthlyCharges       0\n",
              "TotalCharges        11\n",
              "Churn                0\n",
              "dtype: int64"
            ]
          },
          "metadata": {},
          "execution_count": 259
        }
      ]
    },
    {
      "cell_type": "markdown",
      "source": [
        "Foram encontradas 11 linhas vazias na variável TotalCharges        "
      ],
      "metadata": {
        "id": "F6x4-2WUQB6T"
      }
    },
    {
      "cell_type": "markdown",
      "source": [
        "#### Substituindo as linhas vazias pela mediana"
      ],
      "metadata": {
        "id": "6mLjAFmWQMix"
      }
    },
    {
      "cell_type": "code",
      "source": [
        "# SUBSTITUINDO AS LINHAS VAZIAS PELA MEDIANA\n",
        "TotalChargesMedian = df.TotalCharges.median()\n",
        "df['TotalCharges'].fillna(TotalChargesMedian, inplace=True)"
      ],
      "metadata": {
        "id": "TSx8KChy6D-Z"
      },
      "execution_count": null,
      "outputs": []
    },
    {
      "cell_type": "markdown",
      "source": [
        "### Estatísticas de variáveis numéricas"
      ],
      "metadata": {
        "id": "G5OhxFuhNCgZ"
      }
    },
    {
      "cell_type": "code",
      "source": [
        "# ESTATÍSTICA DAS VARIÁVEIS NUMÉRICAS\n",
        "df.describe()"
      ],
      "metadata": {
        "id": "dLelZT927yvR",
        "outputId": "3c76c4eb-eea4-4be1-9f69-b71ff9ebfdbb",
        "colab": {
          "base_uri": "https://localhost:8080/",
          "height": 300
        }
      },
      "execution_count": null,
      "outputs": [
        {
          "output_type": "execute_result",
          "data": {
            "text/html": [
              "\n",
              "  <div id=\"df-c45e90ae-c5bb-4621-aceb-5ae149738e2e\">\n",
              "    <div class=\"colab-df-container\">\n",
              "      <div>\n",
              "<style scoped>\n",
              "    .dataframe tbody tr th:only-of-type {\n",
              "        vertical-align: middle;\n",
              "    }\n",
              "\n",
              "    .dataframe tbody tr th {\n",
              "        vertical-align: top;\n",
              "    }\n",
              "\n",
              "    .dataframe thead th {\n",
              "        text-align: right;\n",
              "    }\n",
              "</style>\n",
              "<table border=\"1\" class=\"dataframe\">\n",
              "  <thead>\n",
              "    <tr style=\"text-align: right;\">\n",
              "      <th></th>\n",
              "      <th>SeniorCitizen</th>\n",
              "      <th>tenure</th>\n",
              "      <th>MonthlyCharges</th>\n",
              "      <th>TotalCharges</th>\n",
              "    </tr>\n",
              "  </thead>\n",
              "  <tbody>\n",
              "    <tr>\n",
              "      <th>count</th>\n",
              "      <td>7043.000000</td>\n",
              "      <td>7043.000000</td>\n",
              "      <td>7043.000000</td>\n",
              "      <td>7043.000000</td>\n",
              "    </tr>\n",
              "    <tr>\n",
              "      <th>mean</th>\n",
              "      <td>0.162147</td>\n",
              "      <td>32.371149</td>\n",
              "      <td>64.761692</td>\n",
              "      <td>2281.916928</td>\n",
              "    </tr>\n",
              "    <tr>\n",
              "      <th>std</th>\n",
              "      <td>0.368612</td>\n",
              "      <td>24.559481</td>\n",
              "      <td>30.090047</td>\n",
              "      <td>2265.270398</td>\n",
              "    </tr>\n",
              "    <tr>\n",
              "      <th>min</th>\n",
              "      <td>0.000000</td>\n",
              "      <td>0.000000</td>\n",
              "      <td>18.250000</td>\n",
              "      <td>18.800000</td>\n",
              "    </tr>\n",
              "    <tr>\n",
              "      <th>25%</th>\n",
              "      <td>0.000000</td>\n",
              "      <td>9.000000</td>\n",
              "      <td>35.500000</td>\n",
              "      <td>402.225000</td>\n",
              "    </tr>\n",
              "    <tr>\n",
              "      <th>50%</th>\n",
              "      <td>0.000000</td>\n",
              "      <td>29.000000</td>\n",
              "      <td>70.350000</td>\n",
              "      <td>1397.475000</td>\n",
              "    </tr>\n",
              "    <tr>\n",
              "      <th>75%</th>\n",
              "      <td>0.000000</td>\n",
              "      <td>55.000000</td>\n",
              "      <td>89.850000</td>\n",
              "      <td>3786.600000</td>\n",
              "    </tr>\n",
              "    <tr>\n",
              "      <th>max</th>\n",
              "      <td>1.000000</td>\n",
              "      <td>72.000000</td>\n",
              "      <td>118.750000</td>\n",
              "      <td>8684.800000</td>\n",
              "    </tr>\n",
              "  </tbody>\n",
              "</table>\n",
              "</div>\n",
              "      <button class=\"colab-df-convert\" onclick=\"convertToInteractive('df-c45e90ae-c5bb-4621-aceb-5ae149738e2e')\"\n",
              "              title=\"Convert this dataframe to an interactive table.\"\n",
              "              style=\"display:none;\">\n",
              "        \n",
              "  <svg xmlns=\"http://www.w3.org/2000/svg\" height=\"24px\"viewBox=\"0 0 24 24\"\n",
              "       width=\"24px\">\n",
              "    <path d=\"M0 0h24v24H0V0z\" fill=\"none\"/>\n",
              "    <path d=\"M18.56 5.44l.94 2.06.94-2.06 2.06-.94-2.06-.94-.94-2.06-.94 2.06-2.06.94zm-11 1L8.5 8.5l.94-2.06 2.06-.94-2.06-.94L8.5 2.5l-.94 2.06-2.06.94zm10 10l.94 2.06.94-2.06 2.06-.94-2.06-.94-.94-2.06-.94 2.06-2.06.94z\"/><path d=\"M17.41 7.96l-1.37-1.37c-.4-.4-.92-.59-1.43-.59-.52 0-1.04.2-1.43.59L10.3 9.45l-7.72 7.72c-.78.78-.78 2.05 0 2.83L4 21.41c.39.39.9.59 1.41.59.51 0 1.02-.2 1.41-.59l7.78-7.78 2.81-2.81c.8-.78.8-2.07 0-2.86zM5.41 20L4 18.59l7.72-7.72 1.47 1.35L5.41 20z\"/>\n",
              "  </svg>\n",
              "      </button>\n",
              "      \n",
              "  <style>\n",
              "    .colab-df-container {\n",
              "      display:flex;\n",
              "      flex-wrap:wrap;\n",
              "      gap: 12px;\n",
              "    }\n",
              "\n",
              "    .colab-df-convert {\n",
              "      background-color: #E8F0FE;\n",
              "      border: none;\n",
              "      border-radius: 50%;\n",
              "      cursor: pointer;\n",
              "      display: none;\n",
              "      fill: #1967D2;\n",
              "      height: 32px;\n",
              "      padding: 0 0 0 0;\n",
              "      width: 32px;\n",
              "    }\n",
              "\n",
              "    .colab-df-convert:hover {\n",
              "      background-color: #E2EBFA;\n",
              "      box-shadow: 0px 1px 2px rgba(60, 64, 67, 0.3), 0px 1px 3px 1px rgba(60, 64, 67, 0.15);\n",
              "      fill: #174EA6;\n",
              "    }\n",
              "\n",
              "    [theme=dark] .colab-df-convert {\n",
              "      background-color: #3B4455;\n",
              "      fill: #D2E3FC;\n",
              "    }\n",
              "\n",
              "    [theme=dark] .colab-df-convert:hover {\n",
              "      background-color: #434B5C;\n",
              "      box-shadow: 0px 1px 3px 1px rgba(0, 0, 0, 0.15);\n",
              "      filter: drop-shadow(0px 1px 2px rgba(0, 0, 0, 0.3));\n",
              "      fill: #FFFFFF;\n",
              "    }\n",
              "  </style>\n",
              "\n",
              "      <script>\n",
              "        const buttonEl =\n",
              "          document.querySelector('#df-c45e90ae-c5bb-4621-aceb-5ae149738e2e button.colab-df-convert');\n",
              "        buttonEl.style.display =\n",
              "          google.colab.kernel.accessAllowed ? 'block' : 'none';\n",
              "\n",
              "        async function convertToInteractive(key) {\n",
              "          const element = document.querySelector('#df-c45e90ae-c5bb-4621-aceb-5ae149738e2e');\n",
              "          const dataTable =\n",
              "            await google.colab.kernel.invokeFunction('convertToInteractive',\n",
              "                                                     [key], {});\n",
              "          if (!dataTable) return;\n",
              "\n",
              "          const docLinkHtml = 'Like what you see? Visit the ' +\n",
              "            '<a target=\"_blank\" href=https://colab.research.google.com/notebooks/data_table.ipynb>data table notebook</a>'\n",
              "            + ' to learn more about interactive tables.';\n",
              "          element.innerHTML = '';\n",
              "          dataTable['output_type'] = 'display_data';\n",
              "          await google.colab.output.renderOutput(dataTable, element);\n",
              "          const docLink = document.createElement('div');\n",
              "          docLink.innerHTML = docLinkHtml;\n",
              "          element.appendChild(docLink);\n",
              "        }\n",
              "      </script>\n",
              "    </div>\n",
              "  </div>\n",
              "  "
            ],
            "text/plain": [
              "       SeniorCitizen       tenure  MonthlyCharges  TotalCharges\n",
              "count    7043.000000  7043.000000     7043.000000   7043.000000\n",
              "mean        0.162147    32.371149       64.761692   2281.916928\n",
              "std         0.368612    24.559481       30.090047   2265.270398\n",
              "min         0.000000     0.000000       18.250000     18.800000\n",
              "25%         0.000000     9.000000       35.500000    402.225000\n",
              "50%         0.000000    29.000000       70.350000   1397.475000\n",
              "75%         0.000000    55.000000       89.850000   3786.600000\n",
              "max         1.000000    72.000000      118.750000   8684.800000"
            ]
          },
          "metadata": {},
          "execution_count": 261
        }
      ]
    },
    {
      "cell_type": "markdown",
      "source": [
        "Podemos analisar com essas estatísticas que metade (50%) dos clientes possuem:\n",
        " \n",
        "* 29 meses de tempo de serviço, ou seja 2 anos e 5 meses\n",
        "* cobranças mensais de ``R$70``\n",
        "* pagaram ``R$1397`` totais por cliente durante o período de tempo\n",
        " \n",
        "\n",
        " \n"
      ],
      "metadata": {
        "id": "5PNf4XVxQlpQ"
      }
    },
    {
      "cell_type": "markdown",
      "source": [
        "### Quantidade de valores únicos por variável"
      ],
      "metadata": {
        "id": "N0nGAs6tNG9B"
      }
    },
    {
      "cell_type": "code",
      "source": [
        "# VALORES ÚNICOS\n",
        "df.nunique()"
      ],
      "metadata": {
        "id": "HpXLn_xD9Ewg",
        "outputId": "3083d76c-66d1-42b5-fb65-1eb63615f395",
        "colab": {
          "base_uri": "https://localhost:8080/"
        }
      },
      "execution_count": null,
      "outputs": [
        {
          "output_type": "execute_result",
          "data": {
            "text/plain": [
              "customerID          7043\n",
              "gender                 2\n",
              "SeniorCitizen          2\n",
              "Partner                2\n",
              "Dependents             2\n",
              "tenure                73\n",
              "PhoneService           2\n",
              "MultipleLines          3\n",
              "InternetService        3\n",
              "OnlineSecurity         3\n",
              "OnlineBackup           3\n",
              "DeviceProtection       3\n",
              "TechSupport            3\n",
              "StreamingTV            3\n",
              "StreamingMovies        3\n",
              "Contract               3\n",
              "PaperlessBilling       2\n",
              "PaymentMethod          4\n",
              "MonthlyCharges      1585\n",
              "TotalCharges        6531\n",
              "Churn                  2\n",
              "dtype: int64"
            ]
          },
          "metadata": {},
          "execution_count": 262
        }
      ]
    },
    {
      "cell_type": "markdown",
      "source": [
        "Sabemos que a maioria das variáveis possuem poucos valores unicos que se repetem entre os diversos clientes, lembrando que estas variáveis ainda estão como texto e será necessário transformá-las em uma solução numérica para otimização do nosso modelo de machine learning."
      ],
      "metadata": {
        "id": "nH0NbvE-VtPx"
      }
    },
    {
      "cell_type": "markdown",
      "source": [
        "##Análise Exploratória das Variáveis\n",
        "\n",
        "Para entender melhor a rede de clientes, vamos plotar algumas das variáveis do dataset relacionadas a características de perfil e pagamento, vale ressaltar que essa plotagem auxilia o desenvolvimento de estratégias empresariais no futuro. \n",
        " \n",
        "Porém como o objetivo desse notebook é criar um modelo de previsão de taxa de cancelamento, somente algumas das variáveis mais importante para auxiliar o entendimento serão graficamente representadas, mas se o objetivo do notebook também fosse uma análise de dados mais precisa seria altamente recomendável analisar as outras variáveis, pois, teríamos mais dados para futuramente implementar alguma estratégia empresarial.\n"
      ],
      "metadata": {
        "id": "u7UFF2UPY41q"
      }
    },
    {
      "cell_type": "markdown",
      "source": [
        "### Quantidade de Clientes por Gênero"
      ],
      "metadata": {
        "id": "1h7xsUKJOYmU"
      }
    },
    {
      "cell_type": "code",
      "source": [
        "# CORES DOS GRÁFICOS\n",
        "color1 = ['#00C752','#FE3353']\n",
        "color2 = ['#FE3353','#00C752']\n",
        "verde = '#00C752'\n",
        "vermelho = '#FE3353'"
      ],
      "metadata": {
        "id": "z-HXgU20S6zc"
      },
      "execution_count": null,
      "outputs": []
    },
    {
      "cell_type": "code",
      "source": [
        "# PLOTAR GRÁFICO\n",
        "fig, ax = plt.subplots(figsize=(8,5),nrows=1, ncols=2)\n",
        "sns.countplot(x=df.gender, ax=ax[0],color=verde);\n",
        "sns.countplot(x=df[df.Churn == 'Yes'].gender, ax=ax[1],color=vermelho);\n",
        "ax[0].text(-0, 1.2,'Quantidade de Clientes por \\nGênero (Total & Evasão)',transform=ax[0].transAxes, fontsize=18, fontweight='bold',color='#58555A')\n",
        "ax[0].set_xlabel(\"\")\n",
        "ax[1].set_xlabel(\"\")\n",
        "ax[1].set_ylabel(\"\")\n",
        "ax[0].set_ylabel(\"\")\n",
        "ax[0].spines['top'].set_visible(False)\n",
        "ax[0].spines['right'].set_visible(False)\n",
        "ax[0].spines['left'].set_visible(False)\n",
        "ax[1].spines['top'].set_visible(False)\n",
        "ax[1].spines['right'].set_visible(False)\n",
        "ax[1].spines['left'].set_visible(False)\n",
        "ax[0].set_title('Total')\n",
        "ax[1].set_title('Evasão')\n",
        "plt.tight_layout()"
      ],
      "metadata": {
        "id": "lb6zJdBCRZ-n",
        "outputId": "819da589-9996-4fdb-b475-f6f5005b6e51",
        "colab": {
          "base_uri": "https://localhost:8080/",
          "height": 361
        }
      },
      "execution_count": null,
      "outputs": [
        {
          "output_type": "display_data",
          "data": {
            "image/png": "[encoded data removed]",
            "text/plain": [
              "<Figure size 576x360 with 2 Axes>"
            ]
          },
          "metadata": {
            "needs_background": "light"
          }
        }
      ]
    },
    {
      "cell_type": "markdown",
      "source": [
        "**Perfil dos clientes:**\n",
        "* Não há diferença entre o número de clientes por gênero, ou seja, a quantidade de homens e mulheres são próximas.\n",
        " \n",
        "**Perfil dos clientes que cancelam:**\n",
        "* O gênero não exerce influência no cancelamento de serviços.\n"
      ],
      "metadata": {
        "id": "y58FaCd0mDRn"
      }
    },
    {
      "cell_type": "markdown",
      "source": [
        "### Quantidade Total de Clientes Idosos"
      ],
      "metadata": {
        "id": "zLcLs5EzOc2T"
      }
    },
    {
      "cell_type": "code",
      "source": [
        "# PLOTAR GRÁFICO\n",
        "fig, ax = plt.subplots(figsize=(8,4))\n",
        "sns.countplot(x=df.SeniorCitizen);\n",
        "ax.set_title('Quantidade Total de Clientes Idosos')\n",
        "sns.set_palette(color1)\n",
        "ax.spines['top'].set_visible(False)\n",
        "ax.spines['right'].set_visible(False)                                \n",
        "ax.set_xlabel(\"\")\n",
        "ax.set_ylabel(\"\")\n",
        "plt.xticks([0, 1], ['Não Idoso', 'Idoso'])\n",
        "plt.show()"
      ],
      "metadata": {
        "id": "iHDAkx5fXZC8",
        "outputId": "e326fa81-6c4f-4563-9493-650fd49b3d14",
        "colab": {
          "base_uri": "https://localhost:8080/",
          "height": 281
        }
      },
      "execution_count": null,
      "outputs": [
        {
          "output_type": "display_data",
          "data": {
            "image/png": "[encoded data removed]",
            "text/plain": [
              "<Figure size 576x288 with 1 Axes>"
            ]
          },
          "metadata": {
            "needs_background": "light"
          }
        }
      ]
    },
    {
      "cell_type": "code",
      "source": [
        "# QUANTIDADE DE CADA CATEGORIA\n",
        "print(df[df.Churn == 'Yes'].SeniorCitizen.value_counts())"
      ],
      "metadata": {
        "colab": {
          "base_uri": "https://localhost:8080/"
        },
        "id": "GerwSAlDamYP",
        "outputId": "b99f4024-9ce0-4c86-9d44-52cd8bfa10a8"
      },
      "execution_count": null,
      "outputs": [
        {
          "output_type": "stream",
          "name": "stdout",
          "text": [
            "0    1393\n",
            "1     476\n",
            "Name: SeniorCitizen, dtype: int64\n"
          ]
        }
      ]
    },
    {
      "cell_type": "markdown",
      "source": [
        "**Perfil dos clientes:**\n",
        "* Clientes não idosos são maiores em quantidade em relação aos clientes idosos\n",
        " \n",
        "**Perfil dos clientes que cancelam:**\n",
        "* Clientes não idosos tem 3x mais chances de cancelar do que clientes não idosos\n",
        "\n"
      ],
      "metadata": {
        "id": "lWoU9XLMptU-"
      }
    },
    {
      "cell_type": "markdown",
      "source": [
        "### Quantidade de Clientes com Parceiros"
      ],
      "metadata": {
        "id": "xfeMWEfoOfyj"
      }
    },
    {
      "cell_type": "code",
      "source": [
        "# PLOTAR GRÁFICO\n",
        "fig, ax = plt.subplots(figsize=(8,5),nrows=1, ncols=2)\n",
        "sns.countplot(x=df.Partner, ax=ax[0],color=verde);\n",
        "sns.countplot(x=df[df.Churn == 'Yes'].Partner, ax=ax[1],color=vermelho);\n",
        "ax[0].text(-0, 1.2,'Quantidade de Clientes\\ncom Parceiros',transform=ax[0].transAxes, fontsize=18, fontweight='bold',color='#58555A')\n",
        "ax[0].set_xlabel(\"\")\n",
        "ax[1].set_xlabel(\"\")\n",
        "ax[1].set_ylabel(\"\")\n",
        "ax[0].set_ylabel(\"\")\n",
        "ax[0].spines['top'].set_visible(False)\n",
        "ax[0].spines['right'].set_visible(False)\n",
        "ax[0].spines['left'].set_visible(False)\n",
        "ax[1].spines['top'].set_visible(False)\n",
        "ax[1].spines['right'].set_visible(False)\n",
        "ax[1].spines['left'].set_visible(False)\n",
        "ax[0].set_title('Total')\n",
        "ax[1].set_title('Evasão')\n",
        "plt.tight_layout()"
      ],
      "metadata": {
        "id": "TFkOL1IhXcqj",
        "outputId": "0c0e02a1-bd1a-4c52-abc6-b6fd732280ea",
        "colab": {
          "base_uri": "https://localhost:8080/",
          "height": 361
        }
      },
      "execution_count": null,
      "outputs": [
        {
          "output_type": "display_data",
          "data": {
            "image/png": "[encoded data removed]",
            "text/plain": [
              "<Figure size 576x360 with 2 Axes>"
            ]
          },
          "metadata": {
            "needs_background": "light"
          }
        }
      ]
    },
    {
      "cell_type": "code",
      "source": [
        "# QUANTIDADE DE CADA CATEGORIA\n",
        "print(df[df.Churn == 'Yes'].Partner.value_counts())"
      ],
      "metadata": {
        "colab": {
          "base_uri": "https://localhost:8080/"
        },
        "id": "uwc59cF7cJnY",
        "outputId": "df1099d3-a566-4168-b1f1-921b8eb75f65"
      },
      "execution_count": null,
      "outputs": [
        {
          "output_type": "stream",
          "name": "stdout",
          "text": [
            "No     1200\n",
            "Yes     669\n",
            "Name: Partner, dtype: int64\n"
          ]
        }
      ]
    },
    {
      "cell_type": "markdown",
      "source": [
        "**Perfil dos clientes:**\n",
        "* A quantidade de clientes com e sem parceiros são relativamente próximas, porém a categoria sem parceiros se sobressai em relação aos clientes com parceiros\n",
        " \n",
        "**Perfil dos clientes que cancelam:**\n",
        "* Clientes sem parceiros têm 2x mais chances de cancelar do que clientes com parceiros\n",
        "\n",
        "\n",
        "\n"
      ],
      "metadata": {
        "id": "mVhZCikqqDGz"
      }
    },
    {
      "cell_type": "markdown",
      "source": [
        "### Quantidade de Clientes com Dependentes"
      ],
      "metadata": {
        "id": "jBlfc90SOpr0"
      }
    },
    {
      "cell_type": "code",
      "source": [
        "# PLOTAR GRÁFICO\n",
        "fig, ax = plt.subplots(figsize=(8,5),nrows=1, ncols=2)\n",
        "sns.countplot(x=df.Dependents, ax=ax[0],color=verde);\n",
        "sns.countplot(x=df[df.Churn == 'Yes'].Dependents, ax=ax[1],color=vermelho);\n",
        "ax[0].text(-0, 1.2,'Quantidade de Clientes\\ncom Dependentes',transform=ax[0].transAxes, fontsize=18, fontweight='bold',color='#58555A')\n",
        "ax[0].set_xlabel(\"\")\n",
        "ax[1].set_xlabel(\"\")\n",
        "ax[1].set_ylabel(\"\")\n",
        "ax[0].set_ylabel(\"\")\n",
        "ax[0].spines['top'].set_visible(False)\n",
        "ax[0].spines['right'].set_visible(False)\n",
        "ax[0].spines['left'].set_visible(False)\n",
        "ax[1].spines['top'].set_visible(False)\n",
        "ax[1].spines['right'].set_visible(False)\n",
        "ax[1].spines['left'].set_visible(False)\n",
        "ax[0].set_title('Total')\n",
        "ax[1].set_title('Evasão')\n",
        "plt.tight_layout()"
      ],
      "metadata": {
        "id": "kIJCm2QZXkyJ",
        "outputId": "59e1af4e-c8d7-4e4a-8bef-0916080d76e6",
        "colab": {
          "base_uri": "https://localhost:8080/",
          "height": 361
        }
      },
      "execution_count": null,
      "outputs": [
        {
          "output_type": "display_data",
          "data": {
            "image/png": "[encoded data removed]",
            "text/plain": [
              "<Figure size 576x360 with 2 Axes>"
            ]
          },
          "metadata": {
            "needs_background": "light"
          }
        }
      ]
    },
    {
      "cell_type": "code",
      "source": [
        "# QUANTIDADE DE CADA CATEGORIA\n",
        "print(df[df.Churn == 'Yes'].Dependents.value_counts())"
      ],
      "metadata": {
        "colab": {
          "base_uri": "https://localhost:8080/"
        },
        "id": "6b1SkHoxef32",
        "outputId": "82957bfa-2aef-4dd3-f176-b282c0c5bcd7"
      },
      "execution_count": null,
      "outputs": [
        {
          "output_type": "stream",
          "name": "stdout",
          "text": [
            "No     1543\n",
            "Yes     326\n",
            "Name: Dependents, dtype: int64\n"
          ]
        }
      ]
    },
    {
      "cell_type": "markdown",
      "source": [
        "**Perfil dos clientes:**\n",
        "* O número de clientes sem dependentes é maior do que os consumidores com dependentes\n",
        " \n",
        "**Perfil dos clientes que cancelam:**\n",
        "* Clientes sem dependentes têm 5x mais chances de cancelar do que clientes com dependentes\n",
        "\n"
      ],
      "metadata": {
        "id": "SlG_qEQ6rTZ2"
      }
    },
    {
      "cell_type": "markdown",
      "source": [
        "### Quantidade de Clientes por forma de pagamento"
      ],
      "metadata": {
        "id": "esZwVfO5OtyD"
      }
    },
    {
      "cell_type": "code",
      "source": [
        "# PLOTAR GRÁFICO\n",
        "fig, ax = plt.subplots(figsize=(16,6),nrows=1, ncols=2)\n",
        "sns.countplot(x=df.PaymentMethod, ax=ax[0],color=verde);\n",
        "sns.countplot(x=df.Contract, ax=ax[1],color=verde);\n",
        "ax[0].text(0, 1.2,'Quantidade de Clientes por \\nforma de pagamento e tempo de contrato',transform=ax[0].transAxes, fontsize=18, fontweight='bold',color='#58555A')\n",
        "ax[0].set_xlabel(\"\")\n",
        "ax[1].set_xlabel(\"\")\n",
        "ax[1].set_ylabel(\"\")\n",
        "ax[0].set_ylabel(\"\")\n",
        "ax[0].spines['top'].set_visible(False)\n",
        "ax[0].spines['right'].set_visible(False)\n",
        "ax[0].spines['left'].set_visible(False)\n",
        "ax[1].spines['top'].set_visible(False)\n",
        "ax[1].spines['right'].set_visible(False)\n",
        "ax[1].spines['left'].set_visible(False)\n",
        "ax[0].set_title('Forma de Pagamento')\n",
        "ax[1].set_title('Tempo de contrato')\n",
        "plt.tight_layout()"
      ],
      "metadata": {
        "id": "Et_Is-f0X_8N",
        "outputId": "1d0b68b6-32f0-4e0d-ca26-db0163cc54ac",
        "colab": {
          "base_uri": "https://localhost:8080/",
          "height": 424
        }
      },
      "execution_count": null,
      "outputs": [
        {
          "output_type": "display_data",
          "data": {
            "image/png": "[encoded data removed]",
            "text/plain": [
              "<Figure size 1152x432 with 2 Axes>"
            ]
          },
          "metadata": {
            "needs_background": "light"
          }
        }
      ]
    },
    {
      "cell_type": "code",
      "source": [
        "# QUANTIDADE DE CADA CATEGORIA\n",
        "print('Quantidade de clientes que cancelaram por Forma de pagamento')\n",
        "print(df[df.Churn == 'Yes'].PaymentMethod.value_counts())\n",
        "print( 25 *'-=')\n",
        "print('Quantidade de clientes que cancelaram por Contrato')\n",
        "print(df[df.Churn == 'Yes'].Contract.value_counts())"
      ],
      "metadata": {
        "colab": {
          "base_uri": "https://localhost:8080/"
        },
        "id": "K9f--XO4uXMD",
        "outputId": "436802b1-50ec-4b0f-e107-acb44611af69"
      },
      "execution_count": null,
      "outputs": [
        {
          "output_type": "stream",
          "name": "stdout",
          "text": [
            "Quantidade de clientes que cancelaram por Forma de pagamento\n",
            "Electronic check             1071\n",
            "Mailed check                  308\n",
            "Bank transfer (automatic)     258\n",
            "Credit card (automatic)       232\n",
            "Name: PaymentMethod, dtype: int64\n",
            "-=-=-=-=-=-=-=-=-=-=-=-=-=-=-=-=-=-=-=-=-=-=-=-=-=\n",
            "Quantidade de clientes que cancelaram por Contrato\n",
            "Month-to-month    1655\n",
            "One year           166\n",
            "Two year            48\n",
            "Name: Contract, dtype: int64\n"
          ]
        }
      ]
    },
    {
      "cell_type": "markdown",
      "source": [
        "**Perfil dos clientes:**\n",
        "* a maioria dos consumidores optam por pagar suas cobranças via electronic check(cheque eletrônico)\n",
        "* a maioria dos clientes possuem contrato mensal\n",
        " \n",
        "**Perfil dos clientes que cancelam:**\n",
        "* 57,3% dos consumidores pagavam suas cobranças via electronic check(cheque eletrônico)\n",
        "* 88,5% dos consumidores possuíam contrato mensal\n"
      ],
      "metadata": {
        "id": "x1GfQFXWs1Al"
      }
    },
    {
      "cell_type": "markdown",
      "source": [
        "### Quantidade de Clientes por mês de fidelidade"
      ],
      "metadata": {
        "id": "OALCzPSUPLTj"
      }
    },
    {
      "cell_type": "code",
      "source": [
        "# PLOTAR GRÁFICO\n",
        "fig, ax = plt.subplots(figsize=(18,5),nrows=2, ncols=1)\n",
        "sns.countplot(x=df.tenure, ax=ax[0]);\n",
        "sns.countplot(x=df[df.Churn == 'Yes'].tenure, ax=ax[1]);\n",
        "ax[0].text(0, 1.2,'Quantidade de Clientes por mês de fidelidade (Total & Evasão)',transform=ax[0].transAxes, fontsize=18, fontweight='bold',color='#58555A')\n",
        "ax[0].set_title('Total')\n",
        "ax[1].set_title('Evasão')\n",
        "ax[0].set_xlabel(\"\")\n",
        "ax[1].set_xlabel(\"\")\n",
        "ax[0].set_ylabel(\"\")\n",
        "ax[1].set_ylabel(\"\")\n",
        "ax[1].spines['top'].set_visible(False)\n",
        "ax[1].spines['right'].set_visible(False)\n",
        "ax[0].spines['top'].set_visible(False)\n",
        "ax[0].spines['right'].set_visible(False)\n",
        "plt.tight_layout()"
      ],
      "metadata": {
        "id": "fUKrNi3HZ7XB",
        "outputId": "6e4d9d0e-9105-4639-b59c-0e19530d0328",
        "colab": {
          "base_uri": "https://localhost:8080/",
          "height": 321
        }
      },
      "execution_count": null,
      "outputs": [
        {
          "output_type": "display_data",
          "data": {
            "image/png": "[encoded data removed]",
            "text/plain": [
              "<Figure size 1296x360 with 2 Axes>"
            ]
          },
          "metadata": {
            "needs_background": "light"
          }
        }
      ]
    },
    {
      "cell_type": "markdown",
      "source": [
        "**Perfil dos clientes:**\n",
        "* A empresa possui mais consumidores no primeiro mês, porém muitos clientes já possuem 72 meses de fidelidade\n",
        "* entre os meses 6-69 a empresa possui uma constância na quantidade de clientes\n",
        " \n",
        "**Perfil dos clientes que cancelam:**\n",
        "* O primeiro mês representa a maior taxa de cancelamento\n",
        "* os cancelamentos vao diminuindo progressivamente ate o sexo mes, a partir dai seguesse uma constancia, mas com reduções da taxa de cancelamento com o passar dos meses."
      ],
      "metadata": {
        "id": "MZKHH6rJx17a"
      }
    },
    {
      "cell_type": "markdown",
      "source": [
        "### Boxplot de Cobranças Mensais e Totais"
      ],
      "metadata": {
        "id": "kv90T-mxPOGL"
      }
    },
    {
      "cell_type": "code",
      "source": [
        "# PLOTAR GRÁFICO\n",
        "fig, ax = plt.subplots(figsize=(18,5),nrows=2,ncols=1)\n",
        "sns.boxplot(x=df.MonthlyCharges, y=df.Churn,ax=ax[0]);\n",
        "sns.boxplot(x=df.TotalCharges, y=df.Churn,ax=ax[1]);\n",
        "sns.set_palette(color1)\n",
        "ax[0].set_title('MonthlyCharges')\n",
        "ax[1].set_title('TotalCharges')\n",
        "ax[0].set_xlabel(\"\")\n",
        "ax[1].set_xlabel(\"\")\n",
        "ax[0].set_ylabel(\"\")\n",
        "ax[1].set_ylabel(\"\")\n",
        "ax[1].spines['top'].set_visible(False)\n",
        "ax[1].spines['right'].set_visible(False)\n",
        "ax[0].spines['top'].set_visible(False)\n",
        "ax[0].spines['right'].set_visible(False)\n",
        "plt.tight_layout()\n",
        "plt.show()"
      ],
      "metadata": {
        "id": "BlHgvGRnapDF",
        "outputId": "1397e3fe-2a9f-49ba-b7d9-5f65c76ca7aa",
        "colab": {
          "base_uri": "https://localhost:8080/",
          "height": 322
        }
      },
      "execution_count": null,
      "outputs": [
        {
          "output_type": "display_data",
          "data": {
            "image/png": "[encoded data removed]",
            "text/plain": [
              "<Figure size 1296x360 with 2 Axes>"
            ]
          },
          "metadata": {
            "needs_background": "light"
          }
        }
      ]
    },
    {
      "cell_type": "code",
      "source": [
        "# ESTATÍSTICA DOS VALORES NÚMERICOS QUE CANCELARAM\n",
        "df[df.Churn == 'Yes'].describe()"
      ],
      "metadata": {
        "colab": {
          "base_uri": "https://localhost:8080/",
          "height": 300
        },
        "id": "a0uMc1_jKyrl",
        "outputId": "5804cb7d-bd60-4776-ce12-4d38f210f8b2"
      },
      "execution_count": null,
      "outputs": [
        {
          "output_type": "execute_result",
          "data": {
            "text/html": [
              "\n",
              "  <div id=\"df-c4865afd-6ba2-4909-9add-10a623a96d34\">\n",
              "    <div class=\"colab-df-container\">\n",
              "      <div>\n",
              "<style scoped>\n",
              "    .dataframe tbody tr th:only-of-type {\n",
              "        vertical-align: middle;\n",
              "    }\n",
              "\n",
              "    .dataframe tbody tr th {\n",
              "        vertical-align: top;\n",
              "    }\n",
              "\n",
              "    .dataframe thead th {\n",
              "        text-align: right;\n",
              "    }\n",
              "</style>\n",
              "<table border=\"1\" class=\"dataframe\">\n",
              "  <thead>\n",
              "    <tr style=\"text-align: right;\">\n",
              "      <th></th>\n",
              "      <th>SeniorCitizen</th>\n",
              "      <th>tenure</th>\n",
              "      <th>MonthlyCharges</th>\n",
              "      <th>TotalCharges</th>\n",
              "    </tr>\n",
              "  </thead>\n",
              "  <tbody>\n",
              "    <tr>\n",
              "      <th>count</th>\n",
              "      <td>1869.000000</td>\n",
              "      <td>1869.000000</td>\n",
              "      <td>1869.000000</td>\n",
              "      <td>1869.000000</td>\n",
              "    </tr>\n",
              "    <tr>\n",
              "      <th>mean</th>\n",
              "      <td>0.254682</td>\n",
              "      <td>17.979133</td>\n",
              "      <td>74.441332</td>\n",
              "      <td>1531.796094</td>\n",
              "    </tr>\n",
              "    <tr>\n",
              "      <th>std</th>\n",
              "      <td>0.435799</td>\n",
              "      <td>19.531123</td>\n",
              "      <td>24.666053</td>\n",
              "      <td>1890.822994</td>\n",
              "    </tr>\n",
              "    <tr>\n",
              "      <th>min</th>\n",
              "      <td>0.000000</td>\n",
              "      <td>1.000000</td>\n",
              "      <td>18.850000</td>\n",
              "      <td>18.850000</td>\n",
              "    </tr>\n",
              "    <tr>\n",
              "      <th>25%</th>\n",
              "      <td>0.000000</td>\n",
              "      <td>2.000000</td>\n",
              "      <td>56.150000</td>\n",
              "      <td>134.500000</td>\n",
              "    </tr>\n",
              "    <tr>\n",
              "      <th>50%</th>\n",
              "      <td>0.000000</td>\n",
              "      <td>10.000000</td>\n",
              "      <td>79.650000</td>\n",
              "      <td>703.550000</td>\n",
              "    </tr>\n",
              "    <tr>\n",
              "      <th>75%</th>\n",
              "      <td>1.000000</td>\n",
              "      <td>29.000000</td>\n",
              "      <td>94.200000</td>\n",
              "      <td>2331.300000</td>\n",
              "    </tr>\n",
              "    <tr>\n",
              "      <th>max</th>\n",
              "      <td>1.000000</td>\n",
              "      <td>72.000000</td>\n",
              "      <td>118.350000</td>\n",
              "      <td>8684.800000</td>\n",
              "    </tr>\n",
              "  </tbody>\n",
              "</table>\n",
              "</div>\n",
              "      <button class=\"colab-df-convert\" onclick=\"convertToInteractive('df-c4865afd-6ba2-4909-9add-10a623a96d34')\"\n",
              "              title=\"Convert this dataframe to an interactive table.\"\n",
              "              style=\"display:none;\">\n",
              "        \n",
              "  <svg xmlns=\"http://www.w3.org/2000/svg\" height=\"24px\"viewBox=\"0 0 24 24\"\n",
              "       width=\"24px\">\n",
              "    <path d=\"M0 0h24v24H0V0z\" fill=\"none\"/>\n",
              "    <path d=\"M18.56 5.44l.94 2.06.94-2.06 2.06-.94-2.06-.94-.94-2.06-.94 2.06-2.06.94zm-11 1L8.5 8.5l.94-2.06 2.06-.94-2.06-.94L8.5 2.5l-.94 2.06-2.06.94zm10 10l.94 2.06.94-2.06 2.06-.94-2.06-.94-.94-2.06-.94 2.06-2.06.94z\"/><path d=\"M17.41 7.96l-1.37-1.37c-.4-.4-.92-.59-1.43-.59-.52 0-1.04.2-1.43.59L10.3 9.45l-7.72 7.72c-.78.78-.78 2.05 0 2.83L4 21.41c.39.39.9.59 1.41.59.51 0 1.02-.2 1.41-.59l7.78-7.78 2.81-2.81c.8-.78.8-2.07 0-2.86zM5.41 20L4 18.59l7.72-7.72 1.47 1.35L5.41 20z\"/>\n",
              "  </svg>\n",
              "      </button>\n",
              "      \n",
              "  <style>\n",
              "    .colab-df-container {\n",
              "      display:flex;\n",
              "      flex-wrap:wrap;\n",
              "      gap: 12px;\n",
              "    }\n",
              "\n",
              "    .colab-df-convert {\n",
              "      background-color: #E8F0FE;\n",
              "      border: none;\n",
              "      border-radius: 50%;\n",
              "      cursor: pointer;\n",
              "      display: none;\n",
              "      fill: #1967D2;\n",
              "      height: 32px;\n",
              "      padding: 0 0 0 0;\n",
              "      width: 32px;\n",
              "    }\n",
              "\n",
              "    .colab-df-convert:hover {\n",
              "      background-color: #E2EBFA;\n",
              "      box-shadow: 0px 1px 2px rgba(60, 64, 67, 0.3), 0px 1px 3px 1px rgba(60, 64, 67, 0.15);\n",
              "      fill: #174EA6;\n",
              "    }\n",
              "\n",
              "    [theme=dark] .colab-df-convert {\n",
              "      background-color: #3B4455;\n",
              "      fill: #D2E3FC;\n",
              "    }\n",
              "\n",
              "    [theme=dark] .colab-df-convert:hover {\n",
              "      background-color: #434B5C;\n",
              "      box-shadow: 0px 1px 3px 1px rgba(0, 0, 0, 0.15);\n",
              "      filter: drop-shadow(0px 1px 2px rgba(0, 0, 0, 0.3));\n",
              "      fill: #FFFFFF;\n",
              "    }\n",
              "  </style>\n",
              "\n",
              "      <script>\n",
              "        const buttonEl =\n",
              "          document.querySelector('#df-c4865afd-6ba2-4909-9add-10a623a96d34 button.colab-df-convert');\n",
              "        buttonEl.style.display =\n",
              "          google.colab.kernel.accessAllowed ? 'block' : 'none';\n",
              "\n",
              "        async function convertToInteractive(key) {\n",
              "          const element = document.querySelector('#df-c4865afd-6ba2-4909-9add-10a623a96d34');\n",
              "          const dataTable =\n",
              "            await google.colab.kernel.invokeFunction('convertToInteractive',\n",
              "                                                     [key], {});\n",
              "          if (!dataTable) return;\n",
              "\n",
              "          const docLinkHtml = 'Like what you see? Visit the ' +\n",
              "            '<a target=\"_blank\" href=https://colab.research.google.com/notebooks/data_table.ipynb>data table notebook</a>'\n",
              "            + ' to learn more about interactive tables.';\n",
              "          element.innerHTML = '';\n",
              "          dataTable['output_type'] = 'display_data';\n",
              "          await google.colab.output.renderOutput(dataTable, element);\n",
              "          const docLink = document.createElement('div');\n",
              "          docLink.innerHTML = docLinkHtml;\n",
              "          element.appendChild(docLink);\n",
              "        }\n",
              "      </script>\n",
              "    </div>\n",
              "  </div>\n",
              "  "
            ],
            "text/plain": [
              "       SeniorCitizen       tenure  MonthlyCharges  TotalCharges\n",
              "count    1869.000000  1869.000000     1869.000000   1869.000000\n",
              "mean        0.254682    17.979133       74.441332   1531.796094\n",
              "std         0.435799    19.531123       24.666053   1890.822994\n",
              "min         0.000000     1.000000       18.850000     18.850000\n",
              "25%         0.000000     2.000000       56.150000    134.500000\n",
              "50%         0.000000    10.000000       79.650000    703.550000\n",
              "75%         1.000000    29.000000       94.200000   2331.300000\n",
              "max         1.000000    72.000000      118.350000   8684.800000"
            ]
          },
          "metadata": {},
          "execution_count": 275
        }
      ]
    },
    {
      "cell_type": "markdown",
      "source": [
        "**Perfil dos clientes que cancelam:**\n",
        "* Metade dos clientes Pagavam cerca ``R$80`` por mês \n",
        "* Metade dos consumidores que cancelaram fizeram após 10 meses de serviço\n",
        "* 25% dos consumidores pagavam cerca de `R$56` por mês\n",
        "* 25% dos clientes que cancelaram fizeram após 2 meses de serviço"
      ],
      "metadata": {
        "id": "kKkj1nu60L-B"
      }
    },
    {
      "cell_type": "markdown",
      "source": [
        "### Quantidade de revalidação e Cancelamento"
      ],
      "metadata": {
        "id": "gB1QtcmMPhBT"
      }
    },
    {
      "cell_type": "code",
      "source": [
        "# PLOTAR GRÁFICO\n",
        "fig, ax = plt.subplots(figsize=(6,6))\n",
        "sns.countplot(x=df.Churn, ax=ax);\n",
        "ax.text(0, 1,'Quantidade de Cancelamento',transform=ax.transAxes, fontsize=18, fontweight='bold',color='#58555A')\n",
        "ax.set_xlabel(\"\")\n",
        "ax.set_ylabel(\"\")\n",
        "ax.spines['top'].set_visible(False)\n",
        "ax.spines['right'].set_visible(False)\n",
        "ax.spines['left'].set_visible(False)\n",
        "plt.tight_layout()"
      ],
      "metadata": {
        "id": "KPIVv-dZX_1R",
        "outputId": "d17b9091-5184-4e08-de1c-41f44fb8bfc3",
        "colab": {
          "base_uri": "https://localhost:8080/",
          "height": 441
        }
      },
      "execution_count": null,
      "outputs": [
        {
          "output_type": "display_data",
          "data": {
            "image/png": "[encoded data removed]",
            "text/plain": [
              "<Figure size 432x432 with 1 Axes>"
            ]
          },
          "metadata": {
            "needs_background": "light"
          }
        }
      ]
    },
    {
      "cell_type": "code",
      "source": [
        "# PORCETAGEM DE CANCELAMENTO \n",
        "print(f'NÃO: {df.Churn.value_counts()[0] / df.shape[0]*100:.2f}%')\n",
        "print(f'SIM: {df.Churn.value_counts()[1] / df.shape[0]*100:.2f}%')"
      ],
      "metadata": {
        "colab": {
          "base_uri": "https://localhost:8080/"
        },
        "id": "vzpuAbeXtdnh",
        "outputId": "1a810f36-1d1a-4bd1-a12e-13f79b267a5a"
      },
      "execution_count": null,
      "outputs": [
        {
          "output_type": "stream",
          "name": "stdout",
          "text": [
            "NÃO: 73.46%\n",
            "SIM: 26.54%\n"
          ]
        }
      ]
    },
    {
      "cell_type": "markdown",
      "source": [
        "Vemos que o Churn do dataset é 25.54%, Valor considerado alto ja que a empresa Bessemer Venture Partners, indica que uma taxa de cancelamento aceitável deve ficar entre 5% e 7%.\n",
        "\n",
        "É importante notar que os dados estão desbalanceados, logo será necessário alguma técnica de balanceamento no futuro."
      ],
      "metadata": {
        "id": "nt6p_hbQuhWe"
      }
    },
    {
      "cell_type": "markdown",
      "source": [
        "# Preparação dos Dados \n",
        "Já feita uma análise breve sobre o nosso dataset da empresa de telecomunicações, vamos partir para a preparação dos dados do modelo de machine learning, o objetivo dessa preparação e fazer com que o modelo obtenha resultados melhores, a partir disso vamos preparar os dados da seguinte maneira:\n",
        " \n",
        "* Exclusão de coluna customerID\n",
        "* Feature Engineering\n",
        "* Separação dos Dados\n",
        "* Feature Scaling\n",
        "* Balanceamento dos Dados"
      ],
      "metadata": {
        "id": "TiWrRayiuufU"
      }
    },
    {
      "cell_type": "markdown",
      "source": [
        "## Exclusão de coluna customerID\n",
        "Para deixar o nosso modelo de previsão mais leve e assertivo, vamos excluir a coluna customerID, pois a permanência dela no nosso dataset influenciará a tomada de decisão do modelo, gerando previsão pouco assertivas."
      ],
      "metadata": {
        "id": "8Y9w6LOA7gUC"
      }
    },
    {
      "cell_type": "code",
      "source": [
        "# EXCLUSÃO DA VARIÁVEL\n",
        "df = df.drop(columns=['customerID'])"
      ],
      "metadata": {
        "id": "a0aB_NxJv6Uu"
      },
      "execution_count": null,
      "outputs": []
    },
    {
      "cell_type": "markdown",
      "source": [
        "## Feature Engineering\n",
        "Agora para melhorar nosso modelo transformaremos as variáveis categóricas em numéricas usando os métodos label enconder e get dummies. A transformação vai permitir que o modelo aprenda de forma mais coerente e que possa nos dar uma previsão mais assertiva em relação a um modelo que não tenha essa transformação.\n",
        " \n",
        "* **Método Label Enconder**\n",
        "Essa abordagem é muito simples e envolve a conversão de cada valor categórico em uma coluna de valor binário 0 ou 1. Como exemplo na variável Dependents os valores são NÃO e SIM e usando o método label enconder vamos transformá-las em 0 e 1.\n",
        " \n",
        "* **Método Get Dummies**\n",
        "Uma Dummy Variable assume um valor 0 ou 1 para indicar a ausência ou presença de determinada variável. Diferente do Label Encoding, onde cada categoria assume um valor numérico, aqui criamos uma espécie de matriz esparça, onde cada categoria ganha uma coluna, com valores 0 indicando ausência, e 1 presença.\n",
        "\n"
      ],
      "metadata": {
        "id": "IQjUE9ZLXGg_"
      }
    },
    {
      "cell_type": "code",
      "source": [
        "# PRÉ PROCESSAR AS VARIÁVEIS\n",
        "var_binaria = df.nunique()[df.nunique() == 2].keys().tolist()\n",
        "var_numerica = [col for col in df.select_dtypes(['int', 'float']).columns.tolist() if col not in var_binaria]\n",
        "var_categorica = [col for col in df.columns.tolist() if col not in var_binaria + var_numerica]\n",
        "# LABEL ENCODING PARA AS VARIÁVEIS BINÁRIAS\n",
        "le = LabelEncoder()\n",
        "for i in var_binaria:\n",
        "    df[i] = le.fit_transform(df[i])\n",
        "# ENCODING PARA COLUNAS CATEGÓRICAS COM MULTIPLAS CLASSES\n",
        "df = pd.get_dummies(df, columns= var_categorica)\n",
        "# PRIMEIRAS ENTRADAS APÓS A TRANFORMAÇÃO\n",
        "df.head()"
      ],
      "metadata": {
        "colab": {
          "base_uri": "https://localhost:8080/",
          "height": 305
        },
        "id": "G6DkKLaDA03I",
        "outputId": "a3940448-6251-46cd-cad5-d0e2caf2a545"
      },
      "execution_count": null,
      "outputs": [
        {
          "output_type": "execute_result",
          "data": {
            "text/html": [
              "\n",
              "  <div id=\"df-9aff93d5-43e9-4869-9e3c-4b920de5b127\">\n",
              "    <div class=\"colab-df-container\">\n",
              "      <div>\n",
              "<style scoped>\n",
              "    .dataframe tbody tr th:only-of-type {\n",
              "        vertical-align: middle;\n",
              "    }\n",
              "\n",
              "    .dataframe tbody tr th {\n",
              "        vertical-align: top;\n",
              "    }\n",
              "\n",
              "    .dataframe thead th {\n",
              "        text-align: right;\n",
              "    }\n",
              "</style>\n",
              "<table border=\"1\" class=\"dataframe\">\n",
              "  <thead>\n",
              "    <tr style=\"text-align: right;\">\n",
              "      <th></th>\n",
              "      <th>gender</th>\n",
              "      <th>SeniorCitizen</th>\n",
              "      <th>Partner</th>\n",
              "      <th>Dependents</th>\n",
              "      <th>tenure</th>\n",
              "      <th>PhoneService</th>\n",
              "      <th>PaperlessBilling</th>\n",
              "      <th>MonthlyCharges</th>\n",
              "      <th>TotalCharges</th>\n",
              "      <th>Churn</th>\n",
              "      <th>MultipleLines_No</th>\n",
              "      <th>MultipleLines_No phone service</th>\n",
              "      <th>MultipleLines_Yes</th>\n",
              "      <th>InternetService_DSL</th>\n",
              "      <th>InternetService_Fiber optic</th>\n",
              "      <th>InternetService_No</th>\n",
              "      <th>OnlineSecurity_No</th>\n",
              "      <th>OnlineSecurity_No internet service</th>\n",
              "      <th>OnlineSecurity_Yes</th>\n",
              "      <th>OnlineBackup_No</th>\n",
              "      <th>OnlineBackup_No internet service</th>\n",
              "      <th>OnlineBackup_Yes</th>\n",
              "      <th>DeviceProtection_No</th>\n",
              "      <th>DeviceProtection_No internet service</th>\n",
              "      <th>DeviceProtection_Yes</th>\n",
              "      <th>TechSupport_No</th>\n",
              "      <th>TechSupport_No internet service</th>\n",
              "      <th>TechSupport_Yes</th>\n",
              "      <th>StreamingTV_No</th>\n",
              "      <th>StreamingTV_No internet service</th>\n",
              "      <th>StreamingTV_Yes</th>\n",
              "      <th>StreamingMovies_No</th>\n",
              "      <th>StreamingMovies_No internet service</th>\n",
              "      <th>StreamingMovies_Yes</th>\n",
              "      <th>Contract_Month-to-month</th>\n",
              "      <th>Contract_One year</th>\n",
              "      <th>Contract_Two year</th>\n",
              "      <th>PaymentMethod_Bank transfer (automatic)</th>\n",
              "      <th>PaymentMethod_Credit card (automatic)</th>\n",
              "      <th>PaymentMethod_Electronic check</th>\n",
              "      <th>PaymentMethod_Mailed check</th>\n",
              "    </tr>\n",
              "  </thead>\n",
              "  <tbody>\n",
              "    <tr>\n",
              "      <th>0</th>\n",
              "      <td>0</td>\n",
              "      <td>0</td>\n",
              "      <td>1</td>\n",
              "      <td>0</td>\n",
              "      <td>1</td>\n",
              "      <td>0</td>\n",
              "      <td>1</td>\n",
              "      <td>29.85</td>\n",
              "      <td>29.85</td>\n",
              "      <td>0</td>\n",
              "      <td>0</td>\n",
              "      <td>1</td>\n",
              "      <td>0</td>\n",
              "      <td>1</td>\n",
              "      <td>0</td>\n",
              "      <td>0</td>\n",
              "      <td>1</td>\n",
              "      <td>0</td>\n",
              "      <td>0</td>\n",
              "      <td>0</td>\n",
              "      <td>0</td>\n",
              "      <td>1</td>\n",
              "      <td>1</td>\n",
              "      <td>0</td>\n",
              "      <td>0</td>\n",
              "      <td>1</td>\n",
              "      <td>0</td>\n",
              "      <td>0</td>\n",
              "      <td>1</td>\n",
              "      <td>0</td>\n",
              "      <td>0</td>\n",
              "      <td>1</td>\n",
              "      <td>0</td>\n",
              "      <td>0</td>\n",
              "      <td>1</td>\n",
              "      <td>0</td>\n",
              "      <td>0</td>\n",
              "      <td>0</td>\n",
              "      <td>0</td>\n",
              "      <td>1</td>\n",
              "      <td>0</td>\n",
              "    </tr>\n",
              "    <tr>\n",
              "      <th>1</th>\n",
              "      <td>1</td>\n",
              "      <td>0</td>\n",
              "      <td>0</td>\n",
              "      <td>0</td>\n",
              "      <td>34</td>\n",
              "      <td>1</td>\n",
              "      <td>0</td>\n",
              "      <td>56.95</td>\n",
              "      <td>1889.50</td>\n",
              "      <td>0</td>\n",
              "      <td>1</td>\n",
              "      <td>0</td>\n",
              "      <td>0</td>\n",
              "      <td>1</td>\n",
              "      <td>0</td>\n",
              "      <td>0</td>\n",
              "      <td>0</td>\n",
              "      <td>0</td>\n",
              "      <td>1</td>\n",
              "      <td>1</td>\n",
              "      <td>0</td>\n",
              "      <td>0</td>\n",
              "      <td>0</td>\n",
              "      <td>0</td>\n",
              "      <td>1</td>\n",
              "      <td>1</td>\n",
              "      <td>0</td>\n",
              "      <td>0</td>\n",
              "      <td>1</td>\n",
              "      <td>0</td>\n",
              "      <td>0</td>\n",
              "      <td>1</td>\n",
              "      <td>0</td>\n",
              "      <td>0</td>\n",
              "      <td>0</td>\n",
              "      <td>1</td>\n",
              "      <td>0</td>\n",
              "      <td>0</td>\n",
              "      <td>0</td>\n",
              "      <td>0</td>\n",
              "      <td>1</td>\n",
              "    </tr>\n",
              "    <tr>\n",
              "      <th>2</th>\n",
              "      <td>1</td>\n",
              "      <td>0</td>\n",
              "      <td>0</td>\n",
              "      <td>0</td>\n",
              "      <td>2</td>\n",
              "      <td>1</td>\n",
              "      <td>1</td>\n",
              "      <td>53.85</td>\n",
              "      <td>108.15</td>\n",
              "      <td>1</td>\n",
              "      <td>1</td>\n",
              "      <td>0</td>\n",
              "      <td>0</td>\n",
              "      <td>1</td>\n",
              "      <td>0</td>\n",
              "      <td>0</td>\n",
              "      <td>0</td>\n",
              "      <td>0</td>\n",
              "      <td>1</td>\n",
              "      <td>0</td>\n",
              "      <td>0</td>\n",
              "      <td>1</td>\n",
              "      <td>1</td>\n",
              "      <td>0</td>\n",
              "      <td>0</td>\n",
              "      <td>1</td>\n",
              "      <td>0</td>\n",
              "      <td>0</td>\n",
              "      <td>1</td>\n",
              "      <td>0</td>\n",
              "      <td>0</td>\n",
              "      <td>1</td>\n",
              "      <td>0</td>\n",
              "      <td>0</td>\n",
              "      <td>1</td>\n",
              "      <td>0</td>\n",
              "      <td>0</td>\n",
              "      <td>0</td>\n",
              "      <td>0</td>\n",
              "      <td>0</td>\n",
              "      <td>1</td>\n",
              "    </tr>\n",
              "    <tr>\n",
              "      <th>3</th>\n",
              "      <td>1</td>\n",
              "      <td>0</td>\n",
              "      <td>0</td>\n",
              "      <td>0</td>\n",
              "      <td>45</td>\n",
              "      <td>0</td>\n",
              "      <td>0</td>\n",
              "      <td>42.30</td>\n",
              "      <td>1840.75</td>\n",
              "      <td>0</td>\n",
              "      <td>0</td>\n",
              "      <td>1</td>\n",
              "      <td>0</td>\n",
              "      <td>1</td>\n",
              "      <td>0</td>\n",
              "      <td>0</td>\n",
              "      <td>0</td>\n",
              "      <td>0</td>\n",
              "      <td>1</td>\n",
              "      <td>1</td>\n",
              "      <td>0</td>\n",
              "      <td>0</td>\n",
              "      <td>0</td>\n",
              "      <td>0</td>\n",
              "      <td>1</td>\n",
              "      <td>0</td>\n",
              "      <td>0</td>\n",
              "      <td>1</td>\n",
              "      <td>1</td>\n",
              "      <td>0</td>\n",
              "      <td>0</td>\n",
              "      <td>1</td>\n",
              "      <td>0</td>\n",
              "      <td>0</td>\n",
              "      <td>0</td>\n",
              "      <td>1</td>\n",
              "      <td>0</td>\n",
              "      <td>1</td>\n",
              "      <td>0</td>\n",
              "      <td>0</td>\n",
              "      <td>0</td>\n",
              "    </tr>\n",
              "    <tr>\n",
              "      <th>4</th>\n",
              "      <td>0</td>\n",
              "      <td>0</td>\n",
              "      <td>0</td>\n",
              "      <td>0</td>\n",
              "      <td>2</td>\n",
              "      <td>1</td>\n",
              "      <td>1</td>\n",
              "      <td>70.70</td>\n",
              "      <td>151.65</td>\n",
              "      <td>1</td>\n",
              "      <td>1</td>\n",
              "      <td>0</td>\n",
              "      <td>0</td>\n",
              "      <td>0</td>\n",
              "      <td>1</td>\n",
              "      <td>0</td>\n",
              "      <td>1</td>\n",
              "      <td>0</td>\n",
              "      <td>0</td>\n",
              "      <td>1</td>\n",
              "      <td>0</td>\n",
              "      <td>0</td>\n",
              "      <td>1</td>\n",
              "      <td>0</td>\n",
              "      <td>0</td>\n",
              "      <td>1</td>\n",
              "      <td>0</td>\n",
              "      <td>0</td>\n",
              "      <td>1</td>\n",
              "      <td>0</td>\n",
              "      <td>0</td>\n",
              "      <td>1</td>\n",
              "      <td>0</td>\n",
              "      <td>0</td>\n",
              "      <td>1</td>\n",
              "      <td>0</td>\n",
              "      <td>0</td>\n",
              "      <td>0</td>\n",
              "      <td>0</td>\n",
              "      <td>1</td>\n",
              "      <td>0</td>\n",
              "    </tr>\n",
              "  </tbody>\n",
              "</table>\n",
              "</div>\n",
              "      <button class=\"colab-df-convert\" onclick=\"convertToInteractive('df-9aff93d5-43e9-4869-9e3c-4b920de5b127')\"\n",
              "              title=\"Convert this dataframe to an interactive table.\"\n",
              "              style=\"display:none;\">\n",
              "        \n",
              "  <svg xmlns=\"http://www.w3.org/2000/svg\" height=\"24px\"viewBox=\"0 0 24 24\"\n",
              "       width=\"24px\">\n",
              "    <path d=\"M0 0h24v24H0V0z\" fill=\"none\"/>\n",
              "    <path d=\"M18.56 5.44l.94 2.06.94-2.06 2.06-.94-2.06-.94-.94-2.06-.94 2.06-2.06.94zm-11 1L8.5 8.5l.94-2.06 2.06-.94-2.06-.94L8.5 2.5l-.94 2.06-2.06.94zm10 10l.94 2.06.94-2.06 2.06-.94-2.06-.94-.94-2.06-.94 2.06-2.06.94z\"/><path d=\"M17.41 7.96l-1.37-1.37c-.4-.4-.92-.59-1.43-.59-.52 0-1.04.2-1.43.59L10.3 9.45l-7.72 7.72c-.78.78-.78 2.05 0 2.83L4 21.41c.39.39.9.59 1.41.59.51 0 1.02-.2 1.41-.59l7.78-7.78 2.81-2.81c.8-.78.8-2.07 0-2.86zM5.41 20L4 18.59l7.72-7.72 1.47 1.35L5.41 20z\"/>\n",
              "  </svg>\n",
              "      </button>\n",
              "      \n",
              "  <style>\n",
              "    .colab-df-container {\n",
              "      display:flex;\n",
              "      flex-wrap:wrap;\n",
              "      gap: 12px;\n",
              "    }\n",
              "\n",
              "    .colab-df-convert {\n",
              "      background-color: #E8F0FE;\n",
              "      border: none;\n",
              "      border-radius: 50%;\n",
              "      cursor: pointer;\n",
              "      display: none;\n",
              "      fill: #1967D2;\n",
              "      height: 32px;\n",
              "      padding: 0 0 0 0;\n",
              "      width: 32px;\n",
              "    }\n",
              "\n",
              "    .colab-df-convert:hover {\n",
              "      background-color: #E2EBFA;\n",
              "      box-shadow: 0px 1px 2px rgba(60, 64, 67, 0.3), 0px 1px 3px 1px rgba(60, 64, 67, 0.15);\n",
              "      fill: #174EA6;\n",
              "    }\n",
              "\n",
              "    [theme=dark] .colab-df-convert {\n",
              "      background-color: #3B4455;\n",
              "      fill: #D2E3FC;\n",
              "    }\n",
              "\n",
              "    [theme=dark] .colab-df-convert:hover {\n",
              "      background-color: #434B5C;\n",
              "      box-shadow: 0px 1px 3px 1px rgba(0, 0, 0, 0.15);\n",
              "      filter: drop-shadow(0px 1px 2px rgba(0, 0, 0, 0.3));\n",
              "      fill: #FFFFFF;\n",
              "    }\n",
              "  </style>\n",
              "\n",
              "      <script>\n",
              "        const buttonEl =\n",
              "          document.querySelector('#df-9aff93d5-43e9-4869-9e3c-4b920de5b127 button.colab-df-convert');\n",
              "        buttonEl.style.display =\n",
              "          google.colab.kernel.accessAllowed ? 'block' : 'none';\n",
              "\n",
              "        async function convertToInteractive(key) {\n",
              "          const element = document.querySelector('#df-9aff93d5-43e9-4869-9e3c-4b920de5b127');\n",
              "          const dataTable =\n",
              "            await google.colab.kernel.invokeFunction('convertToInteractive',\n",
              "                                                     [key], {});\n",
              "          if (!dataTable) return;\n",
              "\n",
              "          const docLinkHtml = 'Like what you see? Visit the ' +\n",
              "            '<a target=\"_blank\" href=https://colab.research.google.com/notebooks/data_table.ipynb>data table notebook</a>'\n",
              "            + ' to learn more about interactive tables.';\n",
              "          element.innerHTML = '';\n",
              "          dataTable['output_type'] = 'display_data';\n",
              "          await google.colab.output.renderOutput(dataTable, element);\n",
              "          const docLink = document.createElement('div');\n",
              "          docLink.innerHTML = docLinkHtml;\n",
              "          element.appendChild(docLink);\n",
              "        }\n",
              "      </script>\n",
              "    </div>\n",
              "  </div>\n",
              "  "
            ],
            "text/plain": [
              "   gender  ...  PaymentMethod_Mailed check\n",
              "0       0  ...                           0\n",
              "1       1  ...                           1\n",
              "2       1  ...                           1\n",
              "3       1  ...                           0\n",
              "4       0  ...                           0\n",
              "\n",
              "[5 rows x 41 columns]"
            ]
          },
          "metadata": {},
          "execution_count": 279
        }
      ]
    },
    {
      "cell_type": "code",
      "source": [
        "# QUANTIDADE DE COLUNAS\n",
        "print(f'Quantiade de colunas original: 20')\n",
        "print(f'Quantiade de colunas após tratamento: {df.shape[1]}')"
      ],
      "metadata": {
        "colab": {
          "base_uri": "https://localhost:8080/"
        },
        "id": "mWzVDaEMXY-p",
        "outputId": "574ef7e1-ff4b-475e-a5dc-2ad3d617b570"
      },
      "execution_count": null,
      "outputs": [
        {
          "output_type": "stream",
          "name": "stdout",
          "text": [
            "Quantiade de colunas original: 20\n",
            "Quantiade de colunas após tratamento: 41\n"
          ]
        }
      ]
    },
    {
      "cell_type": "markdown",
      "source": [
        "## Separação dos dados\n",
        "**A importância de dividir os dados**\n",
        "\n",
        "\n",
        "Avaliar o modelo com os mesmos dados usados no treinamento não é útil, pois isso acaba recompensando os modelos que conseguem \"memorizar\" os dados de treinamento, invés de fazer a generalização a partir deles.\n",
        "\n",
        "**Vamos dividir os dados disponíveis em:**\n",
        "\n",
        "![SEPERAÇÃPO DO MODELO.png](data:image/png;base64,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)\n",
        "\n",
        "* **Dados de treinamento:** usado para treinar o modelo.\n",
        "* **Dados de simulação real:** usado para comprovar que aquele modelo realmente funciona. São dados ignorados no treinamento e no processo de escolha de hiperparâmetros. Estes seriam os dados operacionais de um exemplo real.\n",
        "\n"
      ],
      "metadata": {
        "id": "DiU2MYLRbW4C"
      }
    },
    {
      "cell_type": "code",
      "source": [
        "# SEPARAÇÃO DOS DADOS\n",
        "simu_real = df.sample(frac=0.15, random_state=0)\n",
        "df_proc = df.drop(simu_real.index)\n",
        "print(f'Dados Original: {df.shape}')\n",
        "print(f'Dados de Treino: {df_proc.shape}')\n",
        "print(f'Dados de simulação real: {simu_real.shape}')"
      ],
      "metadata": {
        "colab": {
          "base_uri": "https://localhost:8080/"
        },
        "id": "lv5tUw_qcxf9",
        "outputId": "dd5fe541-8981-4100-8a45-4fbefdb3025e"
      },
      "execution_count": null,
      "outputs": [
        {
          "output_type": "stream",
          "name": "stdout",
          "text": [
            "Dados Original: (7043, 41)\n",
            "Dados de Treino: (5987, 41)\n",
            "Dados de simulação real: (1056, 41)\n"
          ]
        }
      ]
    },
    {
      "cell_type": "markdown",
      "source": [
        "Após isso vamos dividir novamente os dados de treinamento em:\n",
        "\n",
        "* **Dados de treinamento:** usado para treinar o modelo.\n",
        "* **Dados de validação:** usado para comparação de diferentes modelos e hiperparâmetros."
      ],
      "metadata": {
        "id": "bblA78GhX8F_"
      }
    },
    {
      "cell_type": "code",
      "source": [
        "# SEPARAÇÃO DOS DADOS ENTRE COLUNA ALVO E PREVISORES\n",
        "X = df_proc.drop('Churn', axis=1)\n",
        "y = df_proc['Churn']\n",
        "# DIVISÃO DOS DADOS ENTRE TREINO E TESTE\n",
        "X_train, X_test, y_train, y_test = train_test_split(X, y, stratify=y, shuffle=True)"
      ],
      "metadata": {
        "id": "7lJQtXmjbjl-"
      },
      "execution_count": null,
      "outputs": []
    },
    {
      "cell_type": "markdown",
      "source": [
        "## Feature Scaling\n",
        "Por que padronizar os dados?\n",
        "\n",
        "* O objetivo da padronização é alterar os valores das colunas numéricas no conjunto de dados para uma escala comum, sem distorcer as diferenças nos intervalos de valores, ou seja, sem a padronização a variável com maior valor influenciará bastante o resultado e não necessariamente porque ela é mais importante como um preditor.\n",
        " \n",
        "Para Padronizar o dataset de treino usaremos o método:\n",
        "* **StandardScaler**\n",
        " \n",
        "Usar o método StandardScaler irá padronizar as variáveis que resultarão em uma média igual a 0 e um desvio padrão igual a 1.\n",
        "\n",
        "Vale ressaltar que os dados padronizados foram os de treino, logo ao usar os dados de validação e simulação real será necessário padronizá-los também.\n",
        "\n"
      ],
      "metadata": {
        "id": "eaja_BKBZ7lV"
      }
    },
    {
      "cell_type": "code",
      "source": [
        "# PADRONIZAR OS DADOS\n",
        "scaler = StandardScaler().fit(X_train)\n",
        "X_train = scaler.transform(X_train)"
      ],
      "metadata": {
        "id": "8uMG8jD8fohn"
      },
      "execution_count": null,
      "outputs": []
    },
    {
      "cell_type": "markdown",
      "source": [
        "## Balanceamento dos dados\n",
        "Por que balancear os dados da variável alvo (Churn)?\n",
        " \n",
        "* Se você está construindo um modelo de machine learning para classificação será necessário balancear os dados, pois, a consequência do desequilíbrio da variável alvo é que o modelo terá uma tendência a dar muitos “alarmes falsos“. Ou seja, na prática ele irá responder muito bem às entradas para as classes majoritárias, mas terá um desempenho inferior para as minoritárias.\n",
        " \n",
        "Por fim vamos balancear os dados, usando técnicas de:\n",
        " \n",
        "* **UnderSampling**\n",
        " \n",
        "Irá extrair um subconjunto aleatório da classe majoritária, preservando as características da classe minoritária, sendo ideal para situações onde você tem grandes volumes de dados. Apesar de reduzir o tempo computacional e de armazenamento, esta técnica descarta informações da classe majoritária, o que pode levar a uma performance inferior nas predições dela.\n",
        " \n",
        "* **SMOTE**\n",
        " \n",
        "Consiste em gerar dados sintéticos (não duplicados) da classe minoritária a partir de vizinhos. Porém o custo computacional será elevado e você irá deteriorar a performance do algoritmo para as classes minoritárias.\n",
        "\n",
        "<p align=center>\n",
        "<img src=\"https://github.com/carvalhopinheiro/Coisas-Salvas/blob/main/UNDERSAMPLING%20(2).png?raw=true\" width=\"70%\"></p>\n",
        "\n"
      ],
      "metadata": {
        "id": "7r67mmA7oykH"
      }
    },
    {
      "cell_type": "code",
      "source": [
        "# SMOTE\n",
        "smt = SMOTE()\n",
        "X_ros, y_ros = smt.fit_resample(X_train, y_train)\n",
        "# UNDER SAMPLING\n",
        "rus = RandomUnderSampler()\n",
        "X_rus, y_rus = rus.fit_resample(X_train, y_train)"
      ],
      "metadata": {
        "id": "RN0B8by1w7h2"
      },
      "execution_count": null,
      "outputs": []
    },
    {
      "cell_type": "code",
      "source": [
        "# CHECAR O TAMANHO DO DATASET APÓS O BALACEAMENTO\n",
        "print(f'Tamanho Sem Balaceamento: {y_train.shape[0]}')\n",
        "print(f'Tamanho Com Over Sampling: {y_ros.shape[0]}')\n",
        "print(f'Tamanho Com Under Sampling: {y_rus.shape[0]}')\n",
        "print('')\n",
        "# PLOT DO TAMANHO DO DATASET APÓS O BALANCEAMENTO \n",
        "fig, ax = plt.subplots(nrows=1 , ncols=2, figsize=(10, 4))\n",
        "sns.countplot(x=y_ros, ax=ax[0]);\n",
        "sns.countplot(x=y_rus, ax=ax[1]);\n",
        "ax[0].spines['top'].set_visible(False)\n",
        "ax[0].spines['right'].set_visible(False)\n",
        "ax[0].spines['left'].set_visible(False)\n",
        "ax[1].spines['top'].set_visible(False)\n",
        "ax[1].spines['right'].set_visible(False)\n",
        "ax[1].spines['left'].set_visible(False)\n",
        "ax[0].set_ylabel(\"\")\n",
        "ax[1].set_ylabel(\"\")\n",
        "ax[1].set_title('UnderSampling')\n",
        "ax[0].set_title('OverSampling')\n",
        "plt.show()"
      ],
      "metadata": {
        "colab": {
          "base_uri": "https://localhost:8080/",
          "height": 365
        },
        "id": "7kWJd00j3va6",
        "outputId": "84e547a7-91c1-4922-e7c4-1a97ebc0f48f"
      },
      "execution_count": null,
      "outputs": [
        {
          "output_type": "stream",
          "name": "stdout",
          "text": [
            "Tamanho Sem Balaceamento: 4490\n",
            "Tamanho Com Over Sampling: 6574\n",
            "Tamanho Com Under Sampling: 2406\n",
            "\n"
          ]
        },
        {
          "output_type": "display_data",
          "data": {
            "image/png": "[encoded data removed]",
            "text/plain": [
              "<Figure size 720x288 with 2 Axes>"
            ]
          },
          "metadata": {
            "needs_background": "light"
          }
        }
      ]
    },
    {
      "cell_type": "markdown",
      "source": [
        "# Validação Cruzada\n",
        "A validação cruzada é uma técnica para avaliar como a análise estatística se generaliza para um conjunto de dados independente. É uma técnica para avaliar modelos de aprendizado de máquina treinando vários modelos em subconjuntos dos dados de entrada disponíveis e avaliando-os no subconjunto complementar dos dados. Usando validação cruzada, há grandes chances de que possamos detectar o ajuste excessivo com facilidade.\n",
        "\n",
        "<p align=center>\n",
        "<img src=\"https://github.com/carvalhopinheiro/Coisas-Salvas/blob/main/fvfvfv.png?raw=true\" width=\"70%\"></p>\n",
        "\n"
      ],
      "metadata": {
        "id": "xGPGKJAtYFj1"
      }
    },
    {
      "cell_type": "code",
      "source": [
        "# FUNÇÃO DE VALIDAÇÃO CRUZADA\n",
        "def val_model(X, y, clf, quite=False):\n",
        "    \"\"\"\n",
        "    Realiza cross-validation com os dados de treino para determinado modelo.\n",
        "\n",
        "    # Arguments\n",
        "        X: DataFrame, contém as variáveis independentes.\n",
        "        y: Series, vetor contendo a variável alvo.\n",
        "        clf: modelo classificador do Scikit-learn.\n",
        "        quite: bool, indicando se a função deve imprimir os resultados ou não.\n",
        "\n",
        "    # Returns\n",
        "        float, média dos scores da cross-validation.\n",
        "    \"\"\"\n",
        "\n",
        "    X = np.array(X)\n",
        "    y = np.array(y)\n",
        "\n",
        "    pipeline = make_pipeline(StandardScaler(), clf)\n",
        "    scores = cross_val_score(pipeline, X, y, scoring='recall')\n",
        "\n",
        "    if quite == False:\n",
        "        print(\"Recall: {:.2f} (+/- {:.2f})\".format(scores.mean(), scores.std()))\n",
        "\n",
        "    return scores.mean()"
      ],
      "metadata": {
        "id": "nQJMvsp0m6hR"
      },
      "execution_count": null,
      "outputs": []
    },
    {
      "cell_type": "code",
      "source": [
        "# MODELO COM DADOS DE TREINO\n",
        "rf = RandomForestClassifier()\n",
        "score_baseline = val_model(X_train, y_train, rf)"
      ],
      "metadata": {
        "colab": {
          "base_uri": "https://localhost:8080/"
        },
        "id": "GseKQutBnYvj",
        "outputId": "3dc6e4aa-958b-4920-abb9-279ad817a43e"
      },
      "execution_count": null,
      "outputs": [
        {
          "output_type": "stream",
          "name": "stdout",
          "text": [
            "Recall: 0.50 (+/- 0.02)\n"
          ]
        }
      ]
    },
    {
      "cell_type": "markdown",
      "source": [
        "* **Por que utilizamos o recall como forma de avaliar o modelo?**\n",
        " \n",
        "O recall pode ser usado em situações em que os Falsos Negativos são considerados mais prejudiciais que os Falsos Positivos. Por exemplo, o modelo deve de qualquer maneira encontrar todos os consumidores que irão cancelar, mesmo que classifique alguns usuários fiéis como possíveis canceladores do serviço (situação de Falso Positivo) no processo. Ou seja, o modelo deve ter alto recall, pois classificar consumidores que têm alto potencial de cancelamento como clientes fiéis pode ser uma tragédia.\n",
        " \n",
        "* **Por que usamos random forest como o primeiro modelo e quais foram seus resultados?**\n",
        " \n",
        "A Random Forest, como o próprio nome indica, consiste em um grande número de Decision Trees que operam como um conjunto. Essa combinação de modelos, torna ele um algoritmo muito poderoso, por isso decidimos usá-lo como primeiro modelo da nossa validação cruzada e teremos um recall de comparação com os próximos modelos a serem avaliados com dados balanceados.\n",
        " \n",
        "Vale ressaltar que o modelo treinado com os dados de treino apresentou um recall de 50%, ou seja, ele consegue prever 50% dos clientes com potencial de cancelamento.\n"
      ],
      "metadata": {
        "id": "zeBxJsvoqx0H"
      }
    },
    {
      "cell_type": "markdown",
      "source": [
        "# Modelo de Machine Learning\n",
        "Os Modelos que serão testados são de Classificação para Aprendizado supervisionado, ou seja, irão analisar as variáveis independentes para prever a variável dependente (Churn), além disso na validação cruzada desses modelos usaremos dados balanceados com SMOTE e Under Sampling e definiremos qual teve melhor resultado.\n",
        " \n",
        "Selecionamos 4 Modelos para comparação, são eles:\n",
        "* **DecisionTree**\n",
        " \n",
        "Modelo da árvore de decisão é uma árvore binária. Cada nó representa uma única variável de entrada (x) e um ponto de divisão nessa variável (assumindo que a variável seja numérica).Os nós das folhas da árvore contêm uma variável de saída (y) que é usada para fazer uma previsão. As previsões são feitas percorrendo as divisões da árvore até chegar a uma folha e gerar o valor da classe nessa folha.\n",
        "* **RandomForest**\n",
        " \n",
        "Os algoritmos Random Forest são criados por várias árvores de decisão, geralmente treinados com o método de bagging, cuja ideia principal é que a combinação de modelos aumenta o resultado final.\n",
        "* **XGBoost**\n",
        " \n",
        "Modelo de Machine Learning que usa a técnica de Gradient Boosting, capaz de combinar resultados de diversos classificadores \"fracos\" (tipicamente árvores de decisão) que são combinados mediante um comitê forte de decisão.\n",
        "* **Logistic Regression**\n",
        " \n",
        "A regressão logística é o método usado para problemas de classificação binária (problemas com dois valores de classe), utilizando conceitos de estatística e probabilidade. É um algoritmo que lida com questões e problemas de classificação, analisando diferentes aspectos ou variáveis de um objeto para depois determinar uma classe na qual ele se encaixa melhor.\n"
      ],
      "metadata": {
        "id": "i0qtIsZF5p9q"
      }
    },
    {
      "cell_type": "code",
      "source": [
        "# INSTANCIANDO MODELOS\n",
        "rf = RandomForestClassifier()\n",
        "dt = DecisionTreeClassifier()\n",
        "lr = LogisticRegression()\n",
        "xgb = XGBClassifier()"
      ],
      "metadata": {
        "id": "ndJJMxzC1Vlm"
      },
      "execution_count": null,
      "outputs": []
    },
    {
      "cell_type": "markdown",
      "source": [
        "### Avaliando Modelos com UnderSampling"
      ],
      "metadata": {
        "id": "yfElHhnOkg5U"
      }
    },
    {
      "cell_type": "code",
      "source": [
        "# AVALIAR DESEMPENHO DOS MODELOS (RECALL) COM UNDER SAMPLING\n",
        "model = []\n",
        "recall = []\n",
        "\n",
        "for clf in (rf, dt,lr , xgb):\n",
        "    model.append(clf.__class__.__name__)\n",
        "    recall.append(val_model(X_rus, y_rus, clf, quite=True))\n",
        "\n",
        "pd.DataFrame(data=recall, index=model, columns=['Recall'])"
      ],
      "metadata": {
        "colab": {
          "base_uri": "https://localhost:8080/",
          "height": 174
        },
        "id": "Ojfl6nzeAZEb",
        "outputId": "3b88bba9-2c87-486a-cb02-bbe6755e1ed4"
      },
      "execution_count": null,
      "outputs": [
        {
          "output_type": "execute_result",
          "data": {
            "text/html": [
              "\n",
              "  <div id=\"df-600dd1bc-a07a-437c-982b-46cb27bcea1b\">\n",
              "    <div class=\"colab-df-container\">\n",
              "      <div>\n",
              "<style scoped>\n",
              "    .dataframe tbody tr th:only-of-type {\n",
              "        vertical-align: middle;\n",
              "    }\n",
              "\n",
              "    .dataframe tbody tr th {\n",
              "        vertical-align: top;\n",
              "    }\n",
              "\n",
              "    .dataframe thead th {\n",
              "        text-align: right;\n",
              "    }\n",
              "</style>\n",
              "<table border=\"1\" class=\"dataframe\">\n",
              "  <thead>\n",
              "    <tr style=\"text-align: right;\">\n",
              "      <th></th>\n",
              "      <th>Recall</th>\n",
              "    </tr>\n",
              "  </thead>\n",
              "  <tbody>\n",
              "    <tr>\n",
              "      <th>RandomForestClassifier</th>\n",
              "      <td>0.770588</td>\n",
              "    </tr>\n",
              "    <tr>\n",
              "      <th>DecisionTreeClassifier</th>\n",
              "      <td>0.682472</td>\n",
              "    </tr>\n",
              "    <tr>\n",
              "      <th>LogisticRegression</th>\n",
              "      <td>0.812998</td>\n",
              "    </tr>\n",
              "    <tr>\n",
              "      <th>XGBClassifier</th>\n",
              "      <td>0.806342</td>\n",
              "    </tr>\n",
              "  </tbody>\n",
              "</table>\n",
              "</div>\n",
              "      <button class=\"colab-df-convert\" onclick=\"convertToInteractive('df-600dd1bc-a07a-437c-982b-46cb27bcea1b')\"\n",
              "              title=\"Convert this dataframe to an interactive table.\"\n",
              "              style=\"display:none;\">\n",
              "        \n",
              "  <svg xmlns=\"http://www.w3.org/2000/svg\" height=\"24px\"viewBox=\"0 0 24 24\"\n",
              "       width=\"24px\">\n",
              "    <path d=\"M0 0h24v24H0V0z\" fill=\"none\"/>\n",
              "    <path d=\"M18.56 5.44l.94 2.06.94-2.06 2.06-.94-2.06-.94-.94-2.06-.94 2.06-2.06.94zm-11 1L8.5 8.5l.94-2.06 2.06-.94-2.06-.94L8.5 2.5l-.94 2.06-2.06.94zm10 10l.94 2.06.94-2.06 2.06-.94-2.06-.94-.94-2.06-.94 2.06-2.06.94z\"/><path d=\"M17.41 7.96l-1.37-1.37c-.4-.4-.92-.59-1.43-.59-.52 0-1.04.2-1.43.59L10.3 9.45l-7.72 7.72c-.78.78-.78 2.05 0 2.83L4 21.41c.39.39.9.59 1.41.59.51 0 1.02-.2 1.41-.59l7.78-7.78 2.81-2.81c.8-.78.8-2.07 0-2.86zM5.41 20L4 18.59l7.72-7.72 1.47 1.35L5.41 20z\"/>\n",
              "  </svg>\n",
              "      </button>\n",
              "      \n",
              "  <style>\n",
              "    .colab-df-container {\n",
              "      display:flex;\n",
              "      flex-wrap:wrap;\n",
              "      gap: 12px;\n",
              "    }\n",
              "\n",
              "    .colab-df-convert {\n",
              "      background-color: #E8F0FE;\n",
              "      border: none;\n",
              "      border-radius: 50%;\n",
              "      cursor: pointer;\n",
              "      display: none;\n",
              "      fill: #1967D2;\n",
              "      height: 32px;\n",
              "      padding: 0 0 0 0;\n",
              "      width: 32px;\n",
              "    }\n",
              "\n",
              "    .colab-df-convert:hover {\n",
              "      background-color: #E2EBFA;\n",
              "      box-shadow: 0px 1px 2px rgba(60, 64, 67, 0.3), 0px 1px 3px 1px rgba(60, 64, 67, 0.15);\n",
              "      fill: #174EA6;\n",
              "    }\n",
              "\n",
              "    [theme=dark] .colab-df-convert {\n",
              "      background-color: #3B4455;\n",
              "      fill: #D2E3FC;\n",
              "    }\n",
              "\n",
              "    [theme=dark] .colab-df-convert:hover {\n",
              "      background-color: #434B5C;\n",
              "      box-shadow: 0px 1px 3px 1px rgba(0, 0, 0, 0.15);\n",
              "      filter: drop-shadow(0px 1px 2px rgba(0, 0, 0, 0.3));\n",
              "      fill: #FFFFFF;\n",
              "    }\n",
              "  </style>\n",
              "\n",
              "      <script>\n",
              "        const buttonEl =\n",
              "          document.querySelector('#df-600dd1bc-a07a-437c-982b-46cb27bcea1b button.colab-df-convert');\n",
              "        buttonEl.style.display =\n",
              "          google.colab.kernel.accessAllowed ? 'block' : 'none';\n",
              "\n",
              "        async function convertToInteractive(key) {\n",
              "          const element = document.querySelector('#df-600dd1bc-a07a-437c-982b-46cb27bcea1b');\n",
              "          const dataTable =\n",
              "            await google.colab.kernel.invokeFunction('convertToInteractive',\n",
              "                                                     [key], {});\n",
              "          if (!dataTable) return;\n",
              "\n",
              "          const docLinkHtml = 'Like what you see? Visit the ' +\n",
              "            '<a target=\"_blank\" href=https://colab.research.google.com/notebooks/data_table.ipynb>data table notebook</a>'\n",
              "            + ' to learn more about interactive tables.';\n",
              "          element.innerHTML = '';\n",
              "          dataTable['output_type'] = 'display_data';\n",
              "          await google.colab.output.renderOutput(dataTable, element);\n",
              "          const docLink = document.createElement('div');\n",
              "          docLink.innerHTML = docLinkHtml;\n",
              "          element.appendChild(docLink);\n",
              "        }\n",
              "      </script>\n",
              "    </div>\n",
              "  </div>\n",
              "  "
            ],
            "text/plain": [
              "                          Recall\n",
              "RandomForestClassifier  0.770588\n",
              "DecisionTreeClassifier  0.682472\n",
              "LogisticRegression      0.812998\n",
              "XGBClassifier           0.806342"
            ]
          },
          "metadata": {},
          "execution_count": 289
        }
      ]
    },
    {
      "cell_type": "markdown",
      "source": [
        "O modelo com o melhor resultado (Recall mais alto) foi o XGBoost a qual utilizou dados balanceados com UnderSampling."
      ],
      "metadata": {
        "id": "BSX19ye_1ka9"
      }
    },
    {
      "cell_type": "markdown",
      "source": [
        "### Avaliando Modelos com SMOTE"
      ],
      "metadata": {
        "id": "MxdqueBIkoI7"
      }
    },
    {
      "cell_type": "code",
      "source": [
        "model2 = []\n",
        "recall2 = []\n",
        "# avaliar o desempenho (recall)\n",
        "for clf in (rf, dt,lr , xgb):\n",
        "    model2.append(clf.__class__.__name__)\n",
        "    recall2.append(val_model(X_ros, y_ros, clf, quite=True))\n",
        "\n",
        "pd.DataFrame(data=recall2, index=model2, columns=['Recall'])"
      ],
      "metadata": {
        "colab": {
          "base_uri": "https://localhost:8080/",
          "height": 174
        },
        "id": "Q3GyOA57OM97",
        "outputId": "2def39f1-0dea-4fd7-fe43-4de1e4f5eff6"
      },
      "execution_count": null,
      "outputs": [
        {
          "output_type": "execute_result",
          "data": {
            "text/html": [
              "\n",
              "  <div id=\"df-9f49189a-421b-40b5-ac18-808909e2394c\">\n",
              "    <div class=\"colab-df-container\">\n",
              "      <div>\n",
              "<style scoped>\n",
              "    .dataframe tbody tr th:only-of-type {\n",
              "        vertical-align: middle;\n",
              "    }\n",
              "\n",
              "    .dataframe tbody tr th {\n",
              "        vertical-align: top;\n",
              "    }\n",
              "\n",
              "    .dataframe thead th {\n",
              "        text-align: right;\n",
              "    }\n",
              "</style>\n",
              "<table border=\"1\" class=\"dataframe\">\n",
              "  <thead>\n",
              "    <tr style=\"text-align: right;\">\n",
              "      <th></th>\n",
              "      <th>Recall</th>\n",
              "    </tr>\n",
              "  </thead>\n",
              "  <tbody>\n",
              "    <tr>\n",
              "      <th>RandomForestClassifier</th>\n",
              "      <td>0.865325</td>\n",
              "    </tr>\n",
              "    <tr>\n",
              "      <th>DecisionTreeClassifier</th>\n",
              "      <td>0.789263</td>\n",
              "    </tr>\n",
              "    <tr>\n",
              "      <th>LogisticRegression</th>\n",
              "      <td>0.811689</td>\n",
              "    </tr>\n",
              "    <tr>\n",
              "      <th>XGBClassifier</th>\n",
              "      <td>0.857121</td>\n",
              "    </tr>\n",
              "  </tbody>\n",
              "</table>\n",
              "</div>\n",
              "      <button class=\"colab-df-convert\" onclick=\"convertToInteractive('df-9f49189a-421b-40b5-ac18-808909e2394c')\"\n",
              "              title=\"Convert this dataframe to an interactive table.\"\n",
              "              style=\"display:none;\">\n",
              "        \n",
              "  <svg xmlns=\"http://www.w3.org/2000/svg\" height=\"24px\"viewBox=\"0 0 24 24\"\n",
              "       width=\"24px\">\n",
              "    <path d=\"M0 0h24v24H0V0z\" fill=\"none\"/>\n",
              "    <path d=\"M18.56 5.44l.94 2.06.94-2.06 2.06-.94-2.06-.94-.94-2.06-.94 2.06-2.06.94zm-11 1L8.5 8.5l.94-2.06 2.06-.94-2.06-.94L8.5 2.5l-.94 2.06-2.06.94zm10 10l.94 2.06.94-2.06 2.06-.94-2.06-.94-.94-2.06-.94 2.06-2.06.94z\"/><path d=\"M17.41 7.96l-1.37-1.37c-.4-.4-.92-.59-1.43-.59-.52 0-1.04.2-1.43.59L10.3 9.45l-7.72 7.72c-.78.78-.78 2.05 0 2.83L4 21.41c.39.39.9.59 1.41.59.51 0 1.02-.2 1.41-.59l7.78-7.78 2.81-2.81c.8-.78.8-2.07 0-2.86zM5.41 20L4 18.59l7.72-7.72 1.47 1.35L5.41 20z\"/>\n",
              "  </svg>\n",
              "      </button>\n",
              "      \n",
              "  <style>\n",
              "    .colab-df-container {\n",
              "      display:flex;\n",
              "      flex-wrap:wrap;\n",
              "      gap: 12px;\n",
              "    }\n",
              "\n",
              "    .colab-df-convert {\n",
              "      background-color: #E8F0FE;\n",
              "      border: none;\n",
              "      border-radius: 50%;\n",
              "      cursor: pointer;\n",
              "      display: none;\n",
              "      fill: #1967D2;\n",
              "      height: 32px;\n",
              "      padding: 0 0 0 0;\n",
              "      width: 32px;\n",
              "    }\n",
              "\n",
              "    .colab-df-convert:hover {\n",
              "      background-color: #E2EBFA;\n",
              "      box-shadow: 0px 1px 2px rgba(60, 64, 67, 0.3), 0px 1px 3px 1px rgba(60, 64, 67, 0.15);\n",
              "      fill: #174EA6;\n",
              "    }\n",
              "\n",
              "    [theme=dark] .colab-df-convert {\n",
              "      background-color: #3B4455;\n",
              "      fill: #D2E3FC;\n",
              "    }\n",
              "\n",
              "    [theme=dark] .colab-df-convert:hover {\n",
              "      background-color: #434B5C;\n",
              "      box-shadow: 0px 1px 3px 1px rgba(0, 0, 0, 0.15);\n",
              "      filter: drop-shadow(0px 1px 2px rgba(0, 0, 0, 0.3));\n",
              "      fill: #FFFFFF;\n",
              "    }\n",
              "  </style>\n",
              "\n",
              "      <script>\n",
              "        const buttonEl =\n",
              "          document.querySelector('#df-9f49189a-421b-40b5-ac18-808909e2394c button.colab-df-convert');\n",
              "        buttonEl.style.display =\n",
              "          google.colab.kernel.accessAllowed ? 'block' : 'none';\n",
              "\n",
              "        async function convertToInteractive(key) {\n",
              "          const element = document.querySelector('#df-9f49189a-421b-40b5-ac18-808909e2394c');\n",
              "          const dataTable =\n",
              "            await google.colab.kernel.invokeFunction('convertToInteractive',\n",
              "                                                     [key], {});\n",
              "          if (!dataTable) return;\n",
              "\n",
              "          const docLinkHtml = 'Like what you see? Visit the ' +\n",
              "            '<a target=\"_blank\" href=https://colab.research.google.com/notebooks/data_table.ipynb>data table notebook</a>'\n",
              "            + ' to learn more about interactive tables.';\n",
              "          element.innerHTML = '';\n",
              "          dataTable['output_type'] = 'display_data';\n",
              "          await google.colab.output.renderOutput(dataTable, element);\n",
              "          const docLink = document.createElement('div');\n",
              "          docLink.innerHTML = docLinkHtml;\n",
              "          element.appendChild(docLink);\n",
              "        }\n",
              "      </script>\n",
              "    </div>\n",
              "  </div>\n",
              "  "
            ],
            "text/plain": [
              "                          Recall\n",
              "RandomForestClassifier  0.865325\n",
              "DecisionTreeClassifier  0.789263\n",
              "LogisticRegression      0.811689\n",
              "XGBClassifier           0.857121"
            ]
          },
          "metadata": {},
          "execution_count": 290
        }
      ]
    },
    {
      "cell_type": "markdown",
      "source": [
        "O modelo com o melhor resultado (Recall mais alto) foi o RandomForest a qual utilizou dados balanceados com SMOTE.\n",
        " \n",
        "Sabe-se que ao balancear os dados com SMOTE, perdemos a capacidade preditiva do modelo de prever as classes minoritárias, ou seja, algo que não queremos, porém vamos otimizar os hiperparâmetros somente do modelo XGBoost com Undersampling e SMOTE, ja que esse modelo tem uma melhor otimização de hiperparametros do que o RandomForest. Em seguinda, o Modelo com melhor desempenho nos dados de teste/validação será definido como o melhor modelo para usarmos com os dados de simulação real.\n",
        "\n",
        "\n",
        "\n",
        "\n"
      ],
      "metadata": {
        "id": "GsT3THTn14Jy"
      }
    },
    {
      "cell_type": "markdown",
      "source": [
        "## Otimização de hiperparâmetros\n",
        " \n",
        "Para evitar um tipo de situação chamada de overfitting: quando o nosso modelo fica \"viciado\" no treino e ruim para os testes, iremos otimizar nossos hiperparâmetros para tentar evitar o overfitting do modelo, vamos testar o modelo XGBoost com Undersampling e SMOTE e de acordo com o resultado iremos, replicar seus hiperparâmetros para o modelo de simulação real.\n",
        " \n",
        "Os meio de otimização de hiperparâmetros mais conhecidos são:\n",
        "* Grid Search\n",
        "* Randomized Search\n",
        " \n",
        "Para o nosso modelo usaremos o Random Search, pois, ele é um ótimo otimizador de hiperparâmetros, que funciona de forma semelhante ao grid search entretanto ao invés de testar todas as combinações com a vizinhança, o  random search, testa todas as combinações aleatórias dos hiperparâmetros, conforme um número de amostras especificado definido pelo usuário.\n",
        " \n",
        "Sua principal vantagem em relação ao Grid Seach é que ao definirmos um número específico de amostras para cada hiperparâmetro do nosso modelo, conseguimos diminuir o tempo de processamento do algoritmo.\n",
        "\n",
        "Todavia, antes de começarmos a definir nossos hiperparâmetros, vamos entender o que cada um significa:\n",
        " \n",
        "* **N_estimators:** Indica o número de árvores a serem geradas\n",
        "* **Max_depth:** Indica a altura máxima das árvores usadas pelo modelo, ou seja: a quantidade máxima de Nodes que podem haver da raiz até uma folha.\n",
        "* **Min_child_weight:** Indica a soma mínima do peso da instância (hessian) necessária em uma child.\n",
        "* **Gamma:** Indica a redução de perda mínima necessária para fazer uma partição adicional em um nó folha da árvore. Quanto maior gamma for, mais conservador será o algoritmo.\n",
        "* **Learning rate:** Indica a taxa de aprendizado é usada para dimensionar a magnitude das atualizações de parâmetros durante a descida do gradiente.\n",
        "\n",
        "\n",
        "\n",
        "\n",
        "\n",
        " \n"
      ],
      "metadata": {
        "id": "7p6yfYXZlbaI"
      }
    },
    {
      "cell_type": "markdown",
      "source": [
        "###Hiperparâmetros do modelo XGBoost com SMOTE"
      ],
      "metadata": {
        "id": "HipGbHKQQnl1"
      }
    },
    {
      "cell_type": "code",
      "source": [
        "n_estimators = [100, 200, 300, 400, 500, 600, 700, 800, 900, 1000]\n",
        "max_depth = [1, 2, 3, 4, 5, 6, 7, 8]\n",
        "min_child_weight = [1, 2, 3, 4, 5]\n",
        "gamma = [0.1, 0.2, 0.3, 0.4, 0.5]\n",
        "learning_rate = [0.001, 0.01, 0.1, 1]\n",
        "\n",
        "xgb_parametrossmt = {\n",
        "    'n_estimators': n_estimators,\n",
        "    'max_depth':max_depth,\n",
        "    'min_child_weight':min_child_weight,\n",
        "    'gamma':gamma,\n",
        "    'learning_rate':learning_rate}\n",
        "\n",
        "xgbtuningsmt = RandomizedSearchCV(estimator=xgb, \n",
        "                              param_distributions=xgb_parametrossmt, ## Parâmetros\n",
        "                              cv=4, ## Cross validation\n",
        "                              n_iter=20, ## Número de Iterações\n",
        "                              scoring = 'recall', ## Métrica\n",
        "                              n_jobs = -1, ## Utilizando todos os processadores\n",
        "                              verbose = 1)\n",
        "\n",
        "## Fazendo o fit do tuning\n",
        "xgbtuningsmt.fit(X_ros,y_ros)\n"
      ],
      "metadata": {
        "colab": {
          "base_uri": "https://localhost:8080/"
        },
        "id": "9c9JkA09le0-",
        "outputId": "906b0e6f-f6b4-466c-bacd-4cd24800b46b"
      },
      "execution_count": null,
      "outputs": [
        {
          "output_type": "stream",
          "name": "stdout",
          "text": [
            "Fitting 4 folds for each of 20 candidates, totalling 80 fits\n"
          ]
        },
        {
          "output_type": "execute_result",
          "data": {
            "text/plain": [
              "RandomizedSearchCV(cv=4, estimator=XGBClassifier(), n_iter=20, n_jobs=-1,\n",
              "                   param_distributions={'gamma': [0.1, 0.2, 0.3, 0.4, 0.5],\n",
              "                                        'learning_rate': [0.001, 0.01, 0.1, 1],\n",
              "                                        'max_depth': [1, 2, 3, 4, 5, 6, 7, 8],\n",
              "                                        'min_child_weight': [1, 2, 3, 4, 5],\n",
              "                                        'n_estimators': [100, 200, 300, 400,\n",
              "                                                         500, 600, 700, 800,\n",
              "                                                         900, 1000]},\n",
              "                   scoring='recall', verbose=1)"
            ]
          },
          "metadata": {},
          "execution_count": 291
        }
      ]
    },
    {
      "cell_type": "code",
      "source": [
        "xgbtuningsmt.best_estimator_"
      ],
      "metadata": {
        "colab": {
          "base_uri": "https://localhost:8080/"
        },
        "id": "yLWtd_8ew0QL",
        "outputId": "2c7260c8-b7ac-4a71-d838-516ac5caac7a"
      },
      "execution_count": null,
      "outputs": [
        {
          "output_type": "execute_result",
          "data": {
            "text/plain": [
              "XGBClassifier(gamma=0.5, learning_rate=0.001, max_depth=1, min_child_weight=2,\n",
              "              n_estimators=700)"
            ]
          },
          "metadata": {},
          "execution_count": 292
        }
      ]
    },
    {
      "cell_type": "markdown",
      "source": [
        "### Validação dos Hiperparâmetros do modelo XGBoost com SMOTE"
      ],
      "metadata": {
        "id": "JV0Z-fgp_9Ch"
      }
    },
    {
      "cell_type": "code",
      "source": [
        "#DEFININDO MODELO E TREINANDO DADOS\n",
        "xgbsmt = XGBClassifier(gamma=0.2, learning_rate=0.01, max_depth=7, min_child_weight=4,n_estimators=200)\n",
        "xgbsmt.fit(X_ros, y_ros)\n",
        "#FAZENDO PREVISAO EM CIMA DOS DADOS DE TESTE\n",
        "X_testsmt = scaler.transform(X_test)\n",
        "y_predsmt = xgbsmt.predict(X_testsmt)\n",
        "# MATRIZ CONFUSÃO\n",
        "print(skplt.metrics.plot_confusion_matrix(y_test, y_predsmt, normalize=True))\n",
        "# MEDIDAS DE AVALIAÇÃO\n",
        "print(classification_report(y_test, y_predsmt, digits=4))\n",
        "# AUC\n",
        "print(\"AUC: {:.4f}\".format(roc_auc_score(y_test, y_predsmt)))\n"
      ],
      "metadata": {
        "colab": {
          "base_uri": "https://localhost:8080/",
          "height": 486
        },
        "id": "-iCbkhxf_zOK",
        "outputId": "9bad56a8-8d0e-44ba-f0b3-16aa1fcb8cd8"
      },
      "execution_count": null,
      "outputs": [
        {
          "output_type": "stream",
          "name": "stdout",
          "text": [
            "AxesSubplot(0.125,0.125;0.62x0.755)\n",
            "              precision    recall  f1-score   support\n",
            "\n",
            "           0     0.8886    0.8002    0.8421      1096\n",
            "           1     0.5706    0.7257    0.6389       401\n",
            "\n",
            "    accuracy                         0.7802      1497\n",
            "   macro avg     0.7296    0.7629    0.7405      1497\n",
            "weighted avg     0.8034    0.7802    0.7876      1497\n",
            "\n",
            "AUC: 0.7629\n"
          ]
        },
        {
          "output_type": "display_data",
          "data": {
            "image/png": "[encoded data removed]",
            "text/plain": [
              "<Figure size 432x288 with 2 Axes>"
            ]
          },
          "metadata": {
            "needs_background": "light"
          }
        }
      ]
    },
    {
      "cell_type": "markdown",
      "source": [
        "Podemos ver que a adoção de hiperparâmetros não resultou no recall acima do encontrado com a validação cruzada, mas, em um desempenho menor, com isso, fica evidente que o modelo sofreu com overfitting, ou seja, estava tendo resultados bons para os dados de treino mas ao fazer-lo com os dados de teste com apresentou déficit na sua capacidade preditiva, isso também, reforça o nosso ponto que ao balancear os dados com SMOTE a capacidade preditiva também diminui para as classes minoritárias."
      ],
      "metadata": {
        "id": "ngi17l1D9eOf"
      }
    },
    {
      "cell_type": "markdown",
      "source": [
        "### Hiperparâmetros do modelo XGBoost com UnderSampling"
      ],
      "metadata": {
        "id": "KYgLOl-zQ8iP"
      }
    },
    {
      "cell_type": "code",
      "source": [
        "n_estimators = [100, 200, 300, 400, 500, 600, 700, 800, 900, 1000]\n",
        "max_depth = [1, 2, 3, 4, 5, 6, 7, 8]\n",
        "min_child_weight = [1, 2, 3, 4, 5]\n",
        "gamma = [0.1, 0.2, 0.3, 0.4, 0.5]\n",
        "learning_rate = [0.001, 0.01, 0.1, 1]\n",
        "\n",
        "xgb_parametrosrus = {\n",
        "    'n_estimators': n_estimators,\n",
        "    'max_depth':max_depth,\n",
        "    'min_child_weight':min_child_weight,\n",
        "    'gamma':gamma,\n",
        "    'learning_rate':learning_rate}\n",
        "\n",
        "xgbtuningrus = RandomizedSearchCV(estimator=xgb, \n",
        "                              param_distributions=xgb_parametrosrus, ## Parâmetros\n",
        "                              cv=4, ## Cross validation\n",
        "                              n_iter=20, ## Número de Iterações\n",
        "                              scoring = 'recall', ## Métrica\n",
        "                              n_jobs = -1, ## Utilizando todos os processadores\n",
        "                              verbose = 1)\n",
        "\n",
        "## Fazendo o fit do tuning\n",
        "xgbtuningrus.fit(X_rus,y_rus)\n"
      ],
      "metadata": {
        "colab": {
          "base_uri": "https://localhost:8080/"
        },
        "id": "22NnDDxHPB0i",
        "outputId": "c94f2a77-046d-41e9-eaed-0613c36bb665"
      },
      "execution_count": null,
      "outputs": [
        {
          "output_type": "stream",
          "name": "stdout",
          "text": [
            "Fitting 4 folds for each of 20 candidates, totalling 80 fits\n"
          ]
        },
        {
          "output_type": "execute_result",
          "data": {
            "text/plain": [
              "RandomizedSearchCV(cv=4, estimator=XGBClassifier(), n_iter=20, n_jobs=-1,\n",
              "                   param_distributions={'gamma': [0.1, 0.2, 0.3, 0.4, 0.5],\n",
              "                                        'learning_rate': [0.001, 0.01, 0.1, 1],\n",
              "                                        'max_depth': [1, 2, 3, 4, 5, 6, 7, 8],\n",
              "                                        'min_child_weight': [1, 2, 3, 4, 5],\n",
              "                                        'n_estimators': [100, 200, 300, 400,\n",
              "                                                         500, 600, 700, 800,\n",
              "                                                         900, 1000]},\n",
              "                   scoring='recall', verbose=1)"
            ]
          },
          "metadata": {},
          "execution_count": 294
        }
      ]
    },
    {
      "cell_type": "code",
      "source": [
        "xgbtuningrus.best_estimator_"
      ],
      "metadata": {
        "colab": {
          "base_uri": "https://localhost:8080/"
        },
        "id": "PlIYsXqkPHPd",
        "outputId": "8af428a3-9e15-4cca-8cf5-b2e0e30ac6a2"
      },
      "execution_count": null,
      "outputs": [
        {
          "output_type": "execute_result",
          "data": {
            "text/plain": [
              "XGBClassifier(gamma=0.4, learning_rate=0.001, max_depth=1, min_child_weight=3,\n",
              "              n_estimators=800)"
            ]
          },
          "metadata": {},
          "execution_count": 295
        }
      ]
    },
    {
      "cell_type": "markdown",
      "source": [
        "### Validação dos Hiperparâmetros do modelo XGBoost com UnderSampling"
      ],
      "metadata": {
        "id": "xcYN2fIoRCh3"
      }
    },
    {
      "cell_type": "code",
      "source": [
        "#DEFININDO MODELO E TREINANDO DADOS\n",
        "xgbrus = XGBClassifier(gamma=0.4, learning_rate=0.001, max_depth=1, min_child_weight=3,n_estimators=800)\n",
        "xgbrus.fit(X_rus, y_rus)\n",
        "#FAZENDO PREVISAO EM CIMA DOS DADOS DE TESTE\n",
        "X_testrus = scaler.transform(X_test)\n",
        "y_predrus = xgbrus.predict(X_testrus)\n",
        "# MATRIZ CONFUSÃO\n",
        "print(skplt.metrics.plot_confusion_matrix(y_test, y_predrus, normalize=True))\n",
        "# MEDIDAS DE AVALIAÇÃO\n",
        "print(classification_report(y_test, y_predrus, digits=4))\n",
        "# AUC\n",
        "print(\"AUC: {:.4f}\".format(roc_auc_score(y_test, y_predrus)))\n"
      ],
      "metadata": {
        "colab": {
          "base_uri": "https://localhost:8080/",
          "height": 486
        },
        "id": "YN5ZHM1bPKYG",
        "outputId": "d318d541-976b-4f1f-90bf-549d694e59cd"
      },
      "execution_count": null,
      "outputs": [
        {
          "output_type": "stream",
          "name": "stdout",
          "text": [
            "AxesSubplot(0.125,0.125;0.62x0.755)\n",
            "              precision    recall  f1-score   support\n",
            "\n",
            "           0     0.9339    0.5803    0.7158      1096\n",
            "           1     0.4363    0.8878    0.5850       401\n",
            "\n",
            "    accuracy                         0.6627      1497\n",
            "   macro avg     0.6851    0.7340    0.6504      1497\n",
            "weighted avg     0.8006    0.6627    0.6808      1497\n",
            "\n",
            "AUC: 0.7340\n"
          ]
        },
        {
          "output_type": "display_data",
          "data": {
            "image/png": "[encoded data removed]",
            "text/plain": [
              "<Figure size 432x288 with 2 Axes>"
            ]
          },
          "metadata": {
            "needs_background": "light"
          }
        }
      ]
    },
    {
      "cell_type": "markdown",
      "source": [
        "Diferente do nosso modelo balanceado com SMOTE, este modelo atingiu um recall de quase 90% ao ser balanceado com Under Sampling, ou seja, ele não sofreu overfitting como o modelo anterior, logo usaremos seus hiperparâmetros para instanciar o modelo que usará os dados de simulação real."
      ],
      "metadata": {
        "id": "jLzJpgbxUSNC"
      }
    },
    {
      "cell_type": "markdown",
      "source": [
        "##Importância de cada variável no modelo"
      ],
      "metadata": {
        "id": "K4Y7Eszx6zl3"
      }
    },
    {
      "cell_type": "code",
      "source": [
        "feature_importances = pd.DataFrame(xgbrus.feature_importances_,\n",
        "                                   index = X.columns,\n",
        "                                   columns=['importance']).sort_values('importance', ascending=False)\n",
        "feature_importances"
      ],
      "metadata": {
        "colab": {
          "base_uri": "https://localhost:8080/",
          "height": 1000
        },
        "id": "ZnoxAEOBzf6U",
        "outputId": "48f448de-0060-4df6-f29a-c2d79bac334d"
      },
      "execution_count": null,
      "outputs": [
        {
          "output_type": "execute_result",
          "data": {
            "text/html": [
              "\n",
              "  <div id=\"df-47a80466-f581-4d53-948b-5cd17835b4ff\">\n",
              "    <div class=\"colab-df-container\">\n",
              "      <div>\n",
              "<style scoped>\n",
              "    .dataframe tbody tr th:only-of-type {\n",
              "        vertical-align: middle;\n",
              "    }\n",
              "\n",
              "    .dataframe tbody tr th {\n",
              "        vertical-align: top;\n",
              "    }\n",
              "\n",
              "    .dataframe thead th {\n",
              "        text-align: right;\n",
              "    }\n",
              "</style>\n",
              "<table border=\"1\" class=\"dataframe\">\n",
              "  <thead>\n",
              "    <tr style=\"text-align: right;\">\n",
              "      <th></th>\n",
              "      <th>importance</th>\n",
              "    </tr>\n",
              "  </thead>\n",
              "  <tbody>\n",
              "    <tr>\n",
              "      <th>Contract_Month-to-month</th>\n",
              "      <td>0.307072</td>\n",
              "    </tr>\n",
              "    <tr>\n",
              "      <th>OnlineSecurity_No</th>\n",
              "      <td>0.198407</td>\n",
              "    </tr>\n",
              "    <tr>\n",
              "      <th>InternetService_Fiber optic</th>\n",
              "      <td>0.179326</td>\n",
              "    </tr>\n",
              "    <tr>\n",
              "      <th>tenure</th>\n",
              "      <td>0.157693</td>\n",
              "    </tr>\n",
              "    <tr>\n",
              "      <th>TechSupport_No</th>\n",
              "      <td>0.157501</td>\n",
              "    </tr>\n",
              "    <tr>\n",
              "      <th>gender</th>\n",
              "      <td>0.000000</td>\n",
              "    </tr>\n",
              "    <tr>\n",
              "      <th>StreamingTV_Yes</th>\n",
              "      <td>0.000000</td>\n",
              "    </tr>\n",
              "    <tr>\n",
              "      <th>TechSupport_No internet service</th>\n",
              "      <td>0.000000</td>\n",
              "    </tr>\n",
              "    <tr>\n",
              "      <th>TechSupport_Yes</th>\n",
              "      <td>0.000000</td>\n",
              "    </tr>\n",
              "    <tr>\n",
              "      <th>StreamingTV_No</th>\n",
              "      <td>0.000000</td>\n",
              "    </tr>\n",
              "    <tr>\n",
              "      <th>StreamingTV_No internet service</th>\n",
              "      <td>0.000000</td>\n",
              "    </tr>\n",
              "    <tr>\n",
              "      <th>StreamingMovies_No internet service</th>\n",
              "      <td>0.000000</td>\n",
              "    </tr>\n",
              "    <tr>\n",
              "      <th>StreamingMovies_No</th>\n",
              "      <td>0.000000</td>\n",
              "    </tr>\n",
              "    <tr>\n",
              "      <th>DeviceProtection_No internet service</th>\n",
              "      <td>0.000000</td>\n",
              "    </tr>\n",
              "    <tr>\n",
              "      <th>StreamingMovies_Yes</th>\n",
              "      <td>0.000000</td>\n",
              "    </tr>\n",
              "    <tr>\n",
              "      <th>Contract_One year</th>\n",
              "      <td>0.000000</td>\n",
              "    </tr>\n",
              "    <tr>\n",
              "      <th>Contract_Two year</th>\n",
              "      <td>0.000000</td>\n",
              "    </tr>\n",
              "    <tr>\n",
              "      <th>PaymentMethod_Bank transfer (automatic)</th>\n",
              "      <td>0.000000</td>\n",
              "    </tr>\n",
              "    <tr>\n",
              "      <th>PaymentMethod_Credit card (automatic)</th>\n",
              "      <td>0.000000</td>\n",
              "    </tr>\n",
              "    <tr>\n",
              "      <th>PaymentMethod_Electronic check</th>\n",
              "      <td>0.000000</td>\n",
              "    </tr>\n",
              "    <tr>\n",
              "      <th>DeviceProtection_Yes</th>\n",
              "      <td>0.000000</td>\n",
              "    </tr>\n",
              "    <tr>\n",
              "      <th>OnlineBackup_Yes</th>\n",
              "      <td>0.000000</td>\n",
              "    </tr>\n",
              "    <tr>\n",
              "      <th>DeviceProtection_No</th>\n",
              "      <td>0.000000</td>\n",
              "    </tr>\n",
              "    <tr>\n",
              "      <th>SeniorCitizen</th>\n",
              "      <td>0.000000</td>\n",
              "    </tr>\n",
              "    <tr>\n",
              "      <th>Partner</th>\n",
              "      <td>0.000000</td>\n",
              "    </tr>\n",
              "    <tr>\n",
              "      <th>Dependents</th>\n",
              "      <td>0.000000</td>\n",
              "    </tr>\n",
              "    <tr>\n",
              "      <th>PhoneService</th>\n",
              "      <td>0.000000</td>\n",
              "    </tr>\n",
              "    <tr>\n",
              "      <th>PaperlessBilling</th>\n",
              "      <td>0.000000</td>\n",
              "    </tr>\n",
              "    <tr>\n",
              "      <th>MonthlyCharges</th>\n",
              "      <td>0.000000</td>\n",
              "    </tr>\n",
              "    <tr>\n",
              "      <th>TotalCharges</th>\n",
              "      <td>0.000000</td>\n",
              "    </tr>\n",
              "    <tr>\n",
              "      <th>MultipleLines_No</th>\n",
              "      <td>0.000000</td>\n",
              "    </tr>\n",
              "    <tr>\n",
              "      <th>MultipleLines_No phone service</th>\n",
              "      <td>0.000000</td>\n",
              "    </tr>\n",
              "    <tr>\n",
              "      <th>MultipleLines_Yes</th>\n",
              "      <td>0.000000</td>\n",
              "    </tr>\n",
              "    <tr>\n",
              "      <th>InternetService_DSL</th>\n",
              "      <td>0.000000</td>\n",
              "    </tr>\n",
              "    <tr>\n",
              "      <th>InternetService_No</th>\n",
              "      <td>0.000000</td>\n",
              "    </tr>\n",
              "    <tr>\n",
              "      <th>OnlineSecurity_No internet service</th>\n",
              "      <td>0.000000</td>\n",
              "    </tr>\n",
              "    <tr>\n",
              "      <th>OnlineSecurity_Yes</th>\n",
              "      <td>0.000000</td>\n",
              "    </tr>\n",
              "    <tr>\n",
              "      <th>OnlineBackup_No</th>\n",
              "      <td>0.000000</td>\n",
              "    </tr>\n",
              "    <tr>\n",
              "      <th>OnlineBackup_No internet service</th>\n",
              "      <td>0.000000</td>\n",
              "    </tr>\n",
              "    <tr>\n",
              "      <th>PaymentMethod_Mailed check</th>\n",
              "      <td>0.000000</td>\n",
              "    </tr>\n",
              "  </tbody>\n",
              "</table>\n",
              "</div>\n",
              "      <button class=\"colab-df-convert\" onclick=\"convertToInteractive('df-47a80466-f581-4d53-948b-5cd17835b4ff')\"\n",
              "              title=\"Convert this dataframe to an interactive table.\"\n",
              "              style=\"display:none;\">\n",
              "        \n",
              "  <svg xmlns=\"http://www.w3.org/2000/svg\" height=\"24px\"viewBox=\"0 0 24 24\"\n",
              "       width=\"24px\">\n",
              "    <path d=\"M0 0h24v24H0V0z\" fill=\"none\"/>\n",
              "    <path d=\"M18.56 5.44l.94 2.06.94-2.06 2.06-.94-2.06-.94-.94-2.06-.94 2.06-2.06.94zm-11 1L8.5 8.5l.94-2.06 2.06-.94-2.06-.94L8.5 2.5l-.94 2.06-2.06.94zm10 10l.94 2.06.94-2.06 2.06-.94-2.06-.94-.94-2.06-.94 2.06-2.06.94z\"/><path d=\"M17.41 7.96l-1.37-1.37c-.4-.4-.92-.59-1.43-.59-.52 0-1.04.2-1.43.59L10.3 9.45l-7.72 7.72c-.78.78-.78 2.05 0 2.83L4 21.41c.39.39.9.59 1.41.59.51 0 1.02-.2 1.41-.59l7.78-7.78 2.81-2.81c.8-.78.8-2.07 0-2.86zM5.41 20L4 18.59l7.72-7.72 1.47 1.35L5.41 20z\"/>\n",
              "  </svg>\n",
              "      </button>\n",
              "      \n",
              "  <style>\n",
              "    .colab-df-container {\n",
              "      display:flex;\n",
              "      flex-wrap:wrap;\n",
              "      gap: 12px;\n",
              "    }\n",
              "\n",
              "    .colab-df-convert {\n",
              "      background-color: #E8F0FE;\n",
              "      border: none;\n",
              "      border-radius: 50%;\n",
              "      cursor: pointer;\n",
              "      display: none;\n",
              "      fill: #1967D2;\n",
              "      height: 32px;\n",
              "      padding: 0 0 0 0;\n",
              "      width: 32px;\n",
              "    }\n",
              "\n",
              "    .colab-df-convert:hover {\n",
              "      background-color: #E2EBFA;\n",
              "      box-shadow: 0px 1px 2px rgba(60, 64, 67, 0.3), 0px 1px 3px 1px rgba(60, 64, 67, 0.15);\n",
              "      fill: #174EA6;\n",
              "    }\n",
              "\n",
              "    [theme=dark] .colab-df-convert {\n",
              "      background-color: #3B4455;\n",
              "      fill: #D2E3FC;\n",
              "    }\n",
              "\n",
              "    [theme=dark] .colab-df-convert:hover {\n",
              "      background-color: #434B5C;\n",
              "      box-shadow: 0px 1px 3px 1px rgba(0, 0, 0, 0.15);\n",
              "      filter: drop-shadow(0px 1px 2px rgba(0, 0, 0, 0.3));\n",
              "      fill: #FFFFFF;\n",
              "    }\n",
              "  </style>\n",
              "\n",
              "      <script>\n",
              "        const buttonEl =\n",
              "          document.querySelector('#df-47a80466-f581-4d53-948b-5cd17835b4ff button.colab-df-convert');\n",
              "        buttonEl.style.display =\n",
              "          google.colab.kernel.accessAllowed ? 'block' : 'none';\n",
              "\n",
              "        async function convertToInteractive(key) {\n",
              "          const element = document.querySelector('#df-47a80466-f581-4d53-948b-5cd17835b4ff');\n",
              "          const dataTable =\n",
              "            await google.colab.kernel.invokeFunction('convertToInteractive',\n",
              "                                                     [key], {});\n",
              "          if (!dataTable) return;\n",
              "\n",
              "          const docLinkHtml = 'Like what you see? Visit the ' +\n",
              "            '<a target=\"_blank\" href=https://colab.research.google.com/notebooks/data_table.ipynb>data table notebook</a>'\n",
              "            + ' to learn more about interactive tables.';\n",
              "          element.innerHTML = '';\n",
              "          dataTable['output_type'] = 'display_data';\n",
              "          await google.colab.output.renderOutput(dataTable, element);\n",
              "          const docLink = document.createElement('div');\n",
              "          docLink.innerHTML = docLinkHtml;\n",
              "          element.appendChild(docLink);\n",
              "        }\n",
              "      </script>\n",
              "    </div>\n",
              "  </div>\n",
              "  "
            ],
            "text/plain": [
              "                                         importance\n",
              "Contract_Month-to-month                    0.307072\n",
              "OnlineSecurity_No                          0.198407\n",
              "InternetService_Fiber optic                0.179326\n",
              "tenure                                     0.157693\n",
              "TechSupport_No                             0.157501\n",
              "gender                                     0.000000\n",
              "StreamingTV_Yes                            0.000000\n",
              "TechSupport_No internet service            0.000000\n",
              "TechSupport_Yes                            0.000000\n",
              "StreamingTV_No                             0.000000\n",
              "StreamingTV_No internet service            0.000000\n",
              "StreamingMovies_No internet service        0.000000\n",
              "StreamingMovies_No                         0.000000\n",
              "DeviceProtection_No internet service       0.000000\n",
              "StreamingMovies_Yes                        0.000000\n",
              "Contract_One year                          0.000000\n",
              "Contract_Two year                          0.000000\n",
              "PaymentMethod_Bank transfer (automatic)    0.000000\n",
              "PaymentMethod_Credit card (automatic)      0.000000\n",
              "PaymentMethod_Electronic check             0.000000\n",
              "DeviceProtection_Yes                       0.000000\n",
              "OnlineBackup_Yes                           0.000000\n",
              "DeviceProtection_No                        0.000000\n",
              "SeniorCitizen                              0.000000\n",
              "Partner                                    0.000000\n",
              "Dependents                                 0.000000\n",
              "PhoneService                               0.000000\n",
              "PaperlessBilling                           0.000000\n",
              "MonthlyCharges                             0.000000\n",
              "TotalCharges                               0.000000\n",
              "MultipleLines_No                           0.000000\n",
              "MultipleLines_No phone service             0.000000\n",
              "MultipleLines_Yes                          0.000000\n",
              "InternetService_DSL                        0.000000\n",
              "InternetService_No                         0.000000\n",
              "OnlineSecurity_No internet service         0.000000\n",
              "OnlineSecurity_Yes                         0.000000\n",
              "OnlineBackup_No                            0.000000\n",
              "OnlineBackup_No internet service           0.000000\n",
              "PaymentMethod_Mailed check                 0.000000"
            ]
          },
          "metadata": {},
          "execution_count": 312
        }
      ]
    },
    {
      "cell_type": "markdown",
      "source": [
        "Para o Modelo de XGBoost balanceado com Under Sampling e utilizado RandomizedSearchCV para definição dos melhores hiperparâmetros, as variáveis mais importantes para o modelo de previsão são:\n",
        "\n",
        "* **Contract_Month-to-month**\n",
        "* **OnlineSecurity_No**\t\n",
        "* **InternetService_Fiber optic**\t\n",
        "* **tenure**\n",
        "* **TechSupport_No**"
      ],
      "metadata": {
        "id": "tXpOB_rXVK9Q"
      }
    },
    {
      "cell_type": "markdown",
      "source": [
        "## Modelo vencedor com dados de Simulação real"
      ],
      "metadata": {
        "id": "j6c5Ap19TbXW"
      }
    },
    {
      "cell_type": "code",
      "source": [
        "# ESCOLHENDO O MÉTODO DE PADRONIZAÇÃO\n",
        "simu = simu_real.copy()\n",
        "\n",
        "X_simu = simu.drop('Churn', axis=1)\n",
        "y_simu = simu['Churn']\n",
        "\n",
        "X_simu = scaler.transform(X_simu)\n",
        "\n",
        "y_predsimu = xgbrus.predict(X_simu) \n",
        "\n",
        "# MATRIZ CONFUSÃO\n",
        "skplt.metrics.plot_confusion_matrix(y_simu, y_predsimu, normalize=True)\n",
        "# MEDIDAS DE AVALIAÇÃO\n",
        "print(classification_report(y_simu, y_predsimu, digits=4))\n",
        "# AUC\n",
        "print(\"AUC: {:.4f}\".format(roc_auc_score(y_simu, y_predsimu)))\n",
        "print('')"
      ],
      "metadata": {
        "colab": {
          "base_uri": "https://localhost:8080/",
          "height": 486
        },
        "id": "16E39XGNT0i8",
        "outputId": "df7333fc-45fa-4db7-fff7-1ab0f150868c"
      },
      "execution_count": null,
      "outputs": [
        {
          "output_type": "stream",
          "name": "stdout",
          "text": [
            "              precision    recall  f1-score   support\n",
            "\n",
            "           0     0.9207    0.5727    0.7062       791\n",
            "           1     0.4007    0.8528    0.5452       265\n",
            "\n",
            "    accuracy                         0.6430      1056\n",
            "   macro avg     0.6607    0.7128    0.6257      1056\n",
            "weighted avg     0.7902    0.6430    0.6658      1056\n",
            "\n",
            "AUC: 0.7128\n",
            "\n"
          ]
        },
        {
          "output_type": "display_data",
          "data": {
            "image/png": "[encoded data removed]",
            "text/plain": [
              "<Figure size 432x288 with 2 Axes>"
            ]
          },
          "metadata": {
            "needs_background": "light"
          }
        }
      ]
    },
    {
      "cell_type": "markdown",
      "source": [
        "Chegamos no modelo final do nosso projeto de previsão da taxa de rotatividade (Churn) para uma empresa de telecomunicações, mas antes de mostrar seus resultados e capacidade preditiva, vamos mostrar o que significa cada métrica avaliada do modelo.\n",
        " \n",
        "As formas de desempenho avaliadas nos modelos serão principalmente:\n",
        "* **Matriz Confusão:**\n",
        "\n",
        "\n",
        "![MATRIX.png](data:image/png;base64,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)\n",
        "\n",
        "**Tipos de erros**\n",
        "- **Verdadeiro positivo (*true positive* — TP):** Por exemplo, quando o cliente vai cancelar e o modelo classifica como potencial cancelador.\n",
        "- **Falso positivo (*false positive* — FP):** Por exemplo, quando o cliente não vai cancelar e o modelo classifica como potencial cancelador.\n",
        "- **Verdadeiro negativo (*true negative* — TN)** Por exemplo, quando o cliente não vai cancelar e o modelo classifica como potencial renovação.\n",
        "- **Falso negativo (*false negative* — FN):** Por exemplo, quando o cliente vai cancelar e o modelo classifica como potencial renovação.\n",
        " \n",
        "---\n",
        "* **Acurácia:** A acurácia mostra diretamente a porcentagem de acertos do nosso modelo.\n",
        "* **Recall:** Mostra a proporção de positivos encontrados corretamente, ou seja, o quanto o modelo é capaz de prever potenciais canceladores.\n",
        "* **AUC:** A curva AUC é derivada da curva ROC, então vamos inicialmente entender a curva ROC, A curva ROC mostra o quão bom o modelo criado pode distinguir entre duas coisas, a AUC (“area under the ROC curve”) nada mais é que uma maneira de resumir a curva ROC em um único valor, agregando todos os limiares da ROC, calculando a “área sob a curva”.\n",
        "\n",
        "**Agora que tudo ja foi explicado, vamos a conclusão do projeto.**"
      ],
      "metadata": {
        "id": "qdBbppqlHtiK"
      }
    },
    {
      "cell_type": "markdown",
      "source": [
        "# Conclusão\n",
        "O Modelo obteve as métricas de desempenho:\n",
        "* **Acurácia:** 64.30% - Porcentagem de acertos do nosso modelo.\n",
        "* **Recall:** 85.28% - Capacidade de prever potenciais canceladores.\n",
        "* **Auc:** 71.28% - Precisão das classificações entre renovação e cancelamento.\n",
        " \n",
        "De modo geral, o modelo apresentou um ótimo desempenho considerando que o nosso objetivo era um alto recall,ou seja, ter qualidade de prever somente as pessoas que irão cancelar como potenciais canceladores.\n",
        " \n",
        "Com isso, uma capacidade preditiva de quase 86%, para os dados de simulação real é uma métrica bastante satisfatória, porém, ainda existe margem para melhorar o modelo como técnicas de feature engineering, feature selection e otimização de hiperparâmetros.\n",
        " \n",
        "Por fim, através desta análise/modelo é possível traçar o perfil dos consumidores satisfeitos com os serviços prestados e aumentar a retenção dos clientes, visto que este custo é mais baixo do que o de aquisição de novos usuários.\n",
        " \n",
        "Vale ressaltar que este projeto pertence ao curso Data Science na Prática do professor Carlos Melo.\n",
        "\n"
      ],
      "metadata": {
        "id": "JldN23tbMrXF"
      }
    }
  ]
}